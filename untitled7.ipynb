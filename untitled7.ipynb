{
  "nbformat": 4,
  "nbformat_minor": 0,
  "metadata": {
    "colab": {
      "provenance": [],
      "authorship_tag": "ABX9TyMFW54RR3V3rchnLXtGLgVh",
      "include_colab_link": true
    },
    "kernelspec": {
      "name": "python3",
      "display_name": "Python 3"
    },
    "language_info": {
      "name": "python"
    }
  },
  "cells": [
    {
      "cell_type": "markdown",
      "metadata": {
        "id": "view-in-github",
        "colab_type": "text"
      },
      "source": [
        "<a href=\"https://colab.research.google.com/github/harsh-busam04/assignment_ml/blob/main/untitled7.ipynb\" target=\"_parent\"><img src=\"https://colab.research.google.com/assets/colab-badge.svg\" alt=\"Open In Colab\"/></a>"
      ]
    },
    {
      "cell_type": "code",
      "execution_count": null,
      "metadata": {
        "colab": {
          "base_uri": "https://localhost:8080/"
        },
        "id": "elruacdbVrqu",
        "outputId": "1dd00eb3-9e23-4075-989d-414882a06502"
      },
      "outputs": [
        {
          "output_type": "stream",
          "name": "stdout",
          "text": [
            "DataFrame with duplicates:\n",
            "   ID     Name  Age         City\n",
            "0   1    Alice   25     New York\n",
            "1   2      Bob   30  Los Angeles\n",
            "2   3  Charlie   35      Chicago\n",
            "3   2      Bob   30  Los Angeles\n",
            "4   4    David   40      Houston\n",
            "5   3  Charlie   35      Chicago\n"
          ]
        }
      ],
      "source": [
        "import pandas as pd\n",
        "\n",
        "data = {\n",
        "    \"ID\": [1, 2, 3, 2, 4, 3],\n",
        "    \"Name\": [\"Alice\", \"Bob\", \"Charlie\", \"Bob\", \"David\", \"Charlie\"],\n",
        "    \"Age\": [25, 30, 35, 30, 40, 35],\n",
        "    \"City\": [\"New York\", \"Los Angeles\", \"Chicago\", \"Los Angeles\", \"Houston\", \"Chicago\"]\n",
        "}\n",
        "\n",
        "df = pd.DataFrame(data)\n",
        "\n",
        "\n",
        "print(\"DataFrame with duplicates:\")\n",
        "print(df)\n"
      ]
    },
    {
      "cell_type": "code",
      "source": [],
      "metadata": {
        "id": "I-F1Yku2L0xo"
      },
      "execution_count": null,
      "outputs": []
    },
    {
      "cell_type": "code",
      "source": [],
      "metadata": {
        "id": "EmuMjtdCL1Mo"
      },
      "execution_count": null,
      "outputs": []
    },
    {
      "cell_type": "code",
      "source": [],
      "metadata": {
        "id": "dTYa1ANNL1bW"
      },
      "execution_count": null,
      "outputs": []
    },
    {
      "cell_type": "code",
      "source": [
        "import pandas as pd\n",
        "import numpy as np\n",
        "\n",
        "\n",
        "data = {\n",
        "    \"ID\": [1, 2, 3, np.nan, 5, 6, 6],\n",
        "    \"Name\": [\"Alice\", \"Bob\", \"Charlie\", \"David\", \"Eve\", \"Eve\", np.nan],\n",
        "    \"Age\": [25, 30, np.nan, 40, np.nan, 35, 35],\n",
        "    \"City\": [\"New York\", \"Los Angeles\", \"Chicago\", \"Houston\", None, \"Houston\", \"Houston\"]\n",
        "}\n",
        "\n",
        "df = pd.DataFrame(data)\n",
        "\n",
        "print(\"Original DataFrame:\")\n",
        "print(df)\n",
        "\n",
        "df = df.drop_duplicates()\n",
        "\n",
        "\n",
        "df['Age'] = df['Age'].fillna(df['Age'].mean())\n",
        "\n",
        "\n",
        "df['Name'] = df['Name'].fillna(\"Unknown\")\n",
        "df['City'] = df['City'].fillna(\"Unknown\")\n",
        "\n",
        "\n",
        "df['City'] = df['City'].str.title()\n",
        "\n",
        "\n",
        "df['ID'] = df['ID'].fillna(-1).astype(int)\n",
        "\n",
        "print(\"\\nCleaned DataFrame:\")\n",
        "print(df)\n"
      ],
      "metadata": {
        "colab": {
          "base_uri": "https://localhost:8080/"
        },
        "id": "n0I1NtqAWzoK",
        "outputId": "de3a8791-6be0-48c6-8b63-d8d115c9fb38"
      },
      "execution_count": null,
      "outputs": [
        {
          "output_type": "stream",
          "name": "stdout",
          "text": [
            "Original DataFrame:\n",
            "    ID     Name   Age         City\n",
            "0  1.0    Alice  25.0     New York\n",
            "1  2.0      Bob  30.0  Los Angeles\n",
            "2  3.0  Charlie   NaN      Chicago\n",
            "3  NaN    David  40.0      Houston\n",
            "4  5.0      Eve   NaN         None\n",
            "5  6.0      Eve  35.0      Houston\n",
            "6  6.0      NaN  35.0      Houston\n",
            "\n",
            "Cleaned DataFrame:\n",
            "   ID     Name   Age         City\n",
            "0   1    Alice  25.0     New York\n",
            "1   2      Bob  30.0  Los Angeles\n",
            "2   3  Charlie  33.0      Chicago\n",
            "3  -1    David  40.0      Houston\n",
            "4   5      Eve  33.0      Unknown\n",
            "5   6      Eve  35.0      Houston\n",
            "6   6  Unknown  35.0      Houston\n"
          ]
        }
      ]
    },
    {
      "cell_type": "code",
      "source": [
        "import pandas as pd\n",
        "import numpy as np\n",
        "\n",
        "\n",
        "data = {\n",
        "    \"Image_ID\": [\"IMG_001\", \"IMG_002\", \"IMG_003\", \"IMG_004\", \"IMG_005\", \"IMG_006\"],\n",
        "    \"Person_ID\": [1, 2, 3, np.nan, 5, 6],\n",
        "    \"Helmet_Detected\": [\"Yes\", \"No\", np.nan, \"Yes\", \"No\", \"Yes\"],\n",
        "    \"Confidence_Score\": [0.98, 0.85, np.nan, 0.95, 0.72, np.nan],\n",
        "    \"Time_Stamp\": [\"2025-01-22 14:32:01\", \"2025-01-22 14:33:15\", np.nan, \"2025-01-22 14:34:10\", np.nan, \"2025-01-22 14:36:45\"]\n",
        "}\n",
        "\n",
        "df = pd.DataFrame(data)\n",
        "\n",
        "print(\"Sample DataFrame with Missing Values:\")\n",
        "print(df)\n"
      ],
      "metadata": {
        "colab": {
          "base_uri": "https://localhost:8080/"
        },
        "id": "SWjS2eQ8ZAZD",
        "outputId": "aa405f70-eca9-47c0-f5b0-36c243f435c4"
      },
      "execution_count": null,
      "outputs": [
        {
          "output_type": "stream",
          "name": "stdout",
          "text": [
            "Sample DataFrame with Missing Values:\n",
            "  Image_ID  Person_ID Helmet_Detected  Confidence_Score           Time_Stamp\n",
            "0  IMG_001        1.0             Yes              0.98  2025-01-22 14:32:01\n",
            "1  IMG_002        2.0              No              0.85  2025-01-22 14:33:15\n",
            "2  IMG_003        3.0             NaN               NaN                  NaN\n",
            "3  IMG_004        NaN             Yes              0.95  2025-01-22 14:34:10\n",
            "4  IMG_005        5.0              No              0.72                  NaN\n",
            "5  IMG_006        6.0             Yes               NaN  2025-01-22 14:36:45\n"
          ]
        }
      ]
    },
    {
      "cell_type": "code",
      "source": [
        "import pandas as pd\n",
        "import numpy as np\n",
        "\n",
        "\n",
        "data = {\n",
        "    \"Image_ID\": [\"IMG_001\", \"IMG_002\", \"IMG_003\", \"IMG_004\", \"IMG_005\", \"IMG_006\"],\n",
        "    \"Person_ID\": [1, 2, 3, np.nan, 5, 6],\n",
        "    \"Helmet_Detected\": [\"Yes\", \"No\", np.nan, \"Yes\", \"No\", \"Yes\"],\n",
        "    \"Confidence_Score\": [0.98, 0.85, np.nan, 0.95, 0.72, np.nan],\n",
        "    \"Time_Stamp\": [\"2025-01-22 14:32:01\", \"2025-01-22 14:33:15\", np.nan, \"2025-01-22 14:34:10\", np.nan, \"2025-01-22 14:36:45\"]\n",
        "}\n",
        "\n",
        "df = pd.DataFrame(data)\n",
        "\n",
        "print(\"Original DataFrame:\")\n",
        "print(df)\n",
        "\n",
        "\n",
        "df['Person_ID'] = df['Person_ID'].fillna(df['Person_ID'].median())\n",
        "\n",
        "\n",
        "df['Confidence_Score'] = df['Confidence_Score'].fillna(df['Confidence_Score'].mean())\n",
        "\n",
        "print(\"\\nDataFrame after handling missing values in numerical columns:\")\n",
        "print(df)\n"
      ],
      "metadata": {
        "colab": {
          "base_uri": "https://localhost:8080/"
        },
        "id": "NmFI3cIAZtwz",
        "outputId": "65889d5f-e00d-4d51-802d-eab42b8dc5a2"
      },
      "execution_count": null,
      "outputs": [
        {
          "output_type": "stream",
          "name": "stdout",
          "text": [
            "Original DataFrame:\n",
            "  Image_ID  Person_ID Helmet_Detected  Confidence_Score           Time_Stamp\n",
            "0  IMG_001        1.0             Yes              0.98  2025-01-22 14:32:01\n",
            "1  IMG_002        2.0              No              0.85  2025-01-22 14:33:15\n",
            "2  IMG_003        3.0             NaN               NaN                  NaN\n",
            "3  IMG_004        NaN             Yes              0.95  2025-01-22 14:34:10\n",
            "4  IMG_005        5.0              No              0.72                  NaN\n",
            "5  IMG_006        6.0             Yes               NaN  2025-01-22 14:36:45\n",
            "\n",
            "DataFrame after handling missing values in numerical columns:\n",
            "  Image_ID  Person_ID Helmet_Detected  Confidence_Score           Time_Stamp\n",
            "0  IMG_001        1.0             Yes             0.980  2025-01-22 14:32:01\n",
            "1  IMG_002        2.0              No             0.850  2025-01-22 14:33:15\n",
            "2  IMG_003        3.0             NaN             0.875                  NaN\n",
            "3  IMG_004        3.0             Yes             0.950  2025-01-22 14:34:10\n",
            "4  IMG_005        5.0              No             0.720                  NaN\n",
            "5  IMG_006        6.0             Yes             0.875  2025-01-22 14:36:45\n"
          ]
        }
      ]
    },
    {
      "cell_type": "code",
      "source": [
        "import pandas as pd\n",
        "import numpy as np\n",
        "\n",
        "\n",
        "data = {\n",
        "    \"Image_ID\": [\"IMG_001\", \"IMG_002\", \"IMG_003\", \"IMG_004\", \"IMG_005\", \"IMG_006\"],\n",
        "    \"Person_ID\": [1, 2, 3, np.nan, 5, 6],\n",
        "    \"Helmet_Detected\": [\"Yes\", \"No\", np.nan, \"Yes\", \"No\", \"Yes\"],\n",
        "    \"Confidence_Score\": [0.98, 0.85, np.nan, 0.95, 0.72, np.nan],\n",
        "    \"Time_Stamp\": [\"2025-01-22 14:32:01\", \"2025-01-22 14:33:15\", np.nan, \"2025-01-22 14:34:10\", np.nan, \"2025-01-22 14:36:45\"]\n",
        "}\n",
        "\n",
        "df = pd.DataFrame(data)\n",
        "\n",
        "print(\"Original DataFrame:\")\n",
        "print(df)\n",
        "\n",
        "\n",
        "df = df.apply(lambda col: col.fillna(col.mean()) if col.dtype in ['float64', 'int64'] else col)\n",
        "\n",
        "print(\"\\nDataFrame after replacing missing values with the mean for numerical columns:\")\n",
        "print(df)\n"
      ],
      "metadata": {
        "colab": {
          "base_uri": "https://localhost:8080/"
        },
        "id": "6GgrnnqGarTs",
        "outputId": "666e1ff9-3b02-425b-900b-6a2fdb139451"
      },
      "execution_count": null,
      "outputs": [
        {
          "output_type": "stream",
          "name": "stdout",
          "text": [
            "Original DataFrame:\n",
            "  Image_ID  Person_ID Helmet_Detected  Confidence_Score           Time_Stamp\n",
            "0  IMG_001        1.0             Yes              0.98  2025-01-22 14:32:01\n",
            "1  IMG_002        2.0              No              0.85  2025-01-22 14:33:15\n",
            "2  IMG_003        3.0             NaN               NaN                  NaN\n",
            "3  IMG_004        NaN             Yes              0.95  2025-01-22 14:34:10\n",
            "4  IMG_005        5.0              No              0.72                  NaN\n",
            "5  IMG_006        6.0             Yes               NaN  2025-01-22 14:36:45\n",
            "\n",
            "DataFrame after replacing missing values with the mean for numerical columns:\n",
            "  Image_ID  Person_ID Helmet_Detected  Confidence_Score           Time_Stamp\n",
            "0  IMG_001        1.0             Yes             0.980  2025-01-22 14:32:01\n",
            "1  IMG_002        2.0              No             0.850  2025-01-22 14:33:15\n",
            "2  IMG_003        3.0             NaN             0.875                  NaN\n",
            "3  IMG_004        3.4             Yes             0.950  2025-01-22 14:34:10\n",
            "4  IMG_005        5.0              No             0.720                  NaN\n",
            "5  IMG_006        6.0             Yes             0.875  2025-01-22 14:36:45\n"
          ]
        }
      ]
    },
    {
      "cell_type": "code",
      "source": [
        "import pandas as pd\n",
        "import numpy as np\n",
        "\n",
        "\n",
        "data = {\n",
        "    \"Image_ID\": [\"IMG_001\", \"IMG_002\", \"IMG_003\", \"IMG_004\", \"IMG_005\", \"IMG_006\"],\n",
        "    \"Person_ID\": [1, 2, 3, np.nan, 5, 6],\n",
        "    \"Helmet_Detected\": [\"Yes\", \"No\", np.nan, \"Yes\", \"No\", \"Yes\"],\n",
        "    \"Confidence_Score\": [0.98, 0.85, np.nan, 0.95, 0.72, np.nan],\n",
        "    \"Time_Stamp\": [\"2025-01-22 14:32:01\", \"2025-01-22 14:33:15\", np.nan, \"2025-01-22 14:34:10\", np.nan, \"2025-01-22 14:36:45\"]\n",
        "}\n",
        "\n",
        "df = pd.DataFrame(data)\n",
        "\n",
        "print(\"Original DataFrame:\")\n",
        "print(df)\n",
        "\n",
        "df_median = df.apply(lambda col: col.fillna(col.median()) if col.dtype in ['float64', 'int64'] else col)\n",
        "\n",
        "print(\"\\nDataFrame after replacing missing values with the median for numerical columns:\")\n",
        "print(df_median)\n",
        "\n",
        "\n",
        "df_mode = df.apply(lambda col: col.fillna(col.mode()[0]) if col.dtype in ['float64', 'int64'] else col)\n",
        "\n",
        "print(\"\\nDataFrame after replacing missing values with the mode for numerical columns:\")\n",
        "print(df_mode)\n"
      ],
      "metadata": {
        "colab": {
          "base_uri": "https://localhost:8080/"
        },
        "id": "K8V5_XOJaxJU",
        "outputId": "d36d1127-386e-470c-8e09-468af124738b"
      },
      "execution_count": null,
      "outputs": [
        {
          "output_type": "stream",
          "name": "stdout",
          "text": [
            "Original DataFrame:\n",
            "  Image_ID  Person_ID Helmet_Detected  Confidence_Score           Time_Stamp\n",
            "0  IMG_001        1.0             Yes              0.98  2025-01-22 14:32:01\n",
            "1  IMG_002        2.0              No              0.85  2025-01-22 14:33:15\n",
            "2  IMG_003        3.0             NaN               NaN                  NaN\n",
            "3  IMG_004        NaN             Yes              0.95  2025-01-22 14:34:10\n",
            "4  IMG_005        5.0              No              0.72                  NaN\n",
            "5  IMG_006        6.0             Yes               NaN  2025-01-22 14:36:45\n",
            "\n",
            "DataFrame after replacing missing values with the median for numerical columns:\n",
            "  Image_ID  Person_ID Helmet_Detected  Confidence_Score           Time_Stamp\n",
            "0  IMG_001        1.0             Yes              0.98  2025-01-22 14:32:01\n",
            "1  IMG_002        2.0              No              0.85  2025-01-22 14:33:15\n",
            "2  IMG_003        3.0             NaN              0.90                  NaN\n",
            "3  IMG_004        3.0             Yes              0.95  2025-01-22 14:34:10\n",
            "4  IMG_005        5.0              No              0.72                  NaN\n",
            "5  IMG_006        6.0             Yes              0.90  2025-01-22 14:36:45\n",
            "\n",
            "DataFrame after replacing missing values with the mode for numerical columns:\n",
            "  Image_ID  Person_ID Helmet_Detected  Confidence_Score           Time_Stamp\n",
            "0  IMG_001        1.0             Yes              0.98  2025-01-22 14:32:01\n",
            "1  IMG_002        2.0              No              0.85  2025-01-22 14:33:15\n",
            "2  IMG_003        3.0             NaN              0.72                  NaN\n",
            "3  IMG_004        1.0             Yes              0.95  2025-01-22 14:34:10\n",
            "4  IMG_005        5.0              No              0.72                  NaN\n",
            "5  IMG_006        6.0             Yes              0.72  2025-01-22 14:36:45\n"
          ]
        }
      ]
    },
    {
      "cell_type": "code",
      "source": [
        "import pandas as pd\n",
        "import numpy as np\n",
        "\n",
        "\n",
        "data = {\n",
        "    'Age': [25, None, 30, 35, None, 4.5],\n",
        "    'Height': [5.5, 6.1, 5.9, None, 5.7, 6.2],\n",
        "    'HelmetStatus': [1, None, 1, 0, 1, 1],\n",
        "    'Gender': ['M', 'F', 'M', 'None', 'F', 'M'],\n",
        "    'Experience': [2, 4, 6, 1, None, None]\n",
        "}\n",
        "\n",
        "\n",
        "df = pd.DataFrame(data)\n",
        "\n",
        "print(\"Original DataFrame with Missing Values:\")\n",
        "print(df)\n",
        "\n",
        "\n",
        "df_filled_mean = df.copy()\n",
        "df_filled_median = df.copy()\n",
        "df_filled_mode = df.copy()\n",
        "\n",
        "\n",
        "df_filled_mean['Age'] = df['Age'].fillna(df['Age'].mean()).astype(int)\n",
        "df_filled_mean['Experience'] = df['Experience'].fillna(df['Experience'].mean()).astype(int)\n",
        "\n",
        "\n",
        "df_filled_median['Age'] = df['Age'].fillna(df['Age'].median()).astype(int)\n",
        "df_filled_median['Experience'] = df['Experience'].fillna(df['Experience'].median()).astype(int)\n",
        "\n",
        "\n",
        "df_filled_mode['Age'] = df['Age'].fillna(df['Age'].mode()[0]).astype(int)\n",
        "df_filled_mode['Experience'] = df['Experience'].fillna(df['Experience'].mode()[0]).astype(int)\n",
        "\n",
        "\n",
        "print(\"\\nDataFrame after replacing missing values with Mean:\")\n",
        "print(df_filled_mean)\n",
        "\n",
        "print(\"\\nDataFrame after replacing missing values with Median:\")\n",
        "print(df_filled_median)\n",
        "\n",
        "print(\"\\nDataFrame after replacing missing values with Mode:\")\n",
        "print(df_filled_mode)\n"
      ],
      "metadata": {
        "colab": {
          "base_uri": "https://localhost:8080/"
        },
        "id": "4eXlYMMOcQ-h",
        "outputId": "d865e143-9c28-49a1-ad0f-85a341098891"
      },
      "execution_count": null,
      "outputs": [
        {
          "output_type": "stream",
          "name": "stdout",
          "text": [
            "Original DataFrame with Missing Values:\n",
            "    Age  Height  HelmetStatus Gender  Experience\n",
            "0  25.0     5.5           1.0      M         2.0\n",
            "1   NaN     6.1           NaN      F         4.0\n",
            "2  30.0     5.9           1.0      M         6.0\n",
            "3  35.0     NaN           0.0   None         1.0\n",
            "4   NaN     5.7           1.0      F         NaN\n",
            "5   4.5     6.2           1.0      M         NaN\n",
            "\n",
            "DataFrame after replacing missing values with Mean:\n",
            "   Age  Height  HelmetStatus Gender  Experience\n",
            "0   25     5.5           1.0      M           2\n",
            "1   23     6.1           NaN      F           4\n",
            "2   30     5.9           1.0      M           6\n",
            "3   35     NaN           0.0   None           1\n",
            "4   23     5.7           1.0      F           3\n",
            "5    4     6.2           1.0      M           3\n",
            "\n",
            "DataFrame after replacing missing values with Median:\n",
            "   Age  Height  HelmetStatus Gender  Experience\n",
            "0   25     5.5           1.0      M           2\n",
            "1   27     6.1           NaN      F           4\n",
            "2   30     5.9           1.0      M           6\n",
            "3   35     NaN           0.0   None           1\n",
            "4   27     5.7           1.0      F           3\n",
            "5    4     6.2           1.0      M           3\n",
            "\n",
            "DataFrame after replacing missing values with Mode:\n",
            "   Age  Height  HelmetStatus Gender  Experience\n",
            "0   25     5.5           1.0      M           2\n",
            "1    4     6.1           NaN      F           4\n",
            "2   30     5.9           1.0      M           6\n",
            "3   35     NaN           0.0   None           1\n",
            "4    4     5.7           1.0      F           1\n",
            "5    4     6.2           1.0      M           1\n"
          ]
        }
      ]
    },
    {
      "cell_type": "code",
      "source": [
        "import pandas as pd\n",
        "\n",
        "\n",
        "data = {\n",
        "    \"ID\": [1, 2, 3, 4, 5, 3, 2],\n",
        "    \"Name\": [\"Alice\", \"Bob\", \"Charlie\", \"David\", \"Eve\", \"Charlie\", \"Bob\"],\n",
        "    \"Age\": [25, 30, 35, 40, 28, 35, 30],\n",
        "    \"City\": [\"New York\", \"Los Angeles\", \"Chicago\", \"Houston\", \"Phoenix\", \"Chicago\", \"Los Angeles\"]\n",
        "}\n",
        "\n",
        "df = pd.DataFrame(data)\n",
        "\n",
        "print(\"DataFrame with Duplicate Rows:\")\n",
        "print(df)\n"
      ],
      "metadata": {
        "colab": {
          "base_uri": "https://localhost:8080/"
        },
        "id": "FkXLuzYLfSnJ",
        "outputId": "494bdda2-748d-46cb-9523-fbe0b30f1dab"
      },
      "execution_count": null,
      "outputs": [
        {
          "output_type": "stream",
          "name": "stdout",
          "text": [
            "DataFrame with Duplicate Rows:\n",
            "   ID     Name  Age         City\n",
            "0   1    Alice   25     New York\n",
            "1   2      Bob   30  Los Angeles\n",
            "2   3  Charlie   35      Chicago\n",
            "3   4    David   40      Houston\n",
            "4   5      Eve   28      Phoenix\n",
            "5   3  Charlie   35      Chicago\n",
            "6   2      Bob   30  Los Angeles\n"
          ]
        }
      ]
    },
    {
      "cell_type": "code",
      "source": [
        "import pandas as pd\n",
        "\n",
        "\n",
        "data = {\n",
        "    \"ID\": [1, 2, 3, 4, 5, 3, 2],\n",
        "    \"Name\": [\"Alice\", \"Bob\", \"Charlie\", \"David\", \"Eve\", \"Charlie\", \"Bob\"],\n",
        "    \"Age\": [25, 30, 35, 40, 28, 35, 30],\n",
        "    \"City\": [\"New York\", \"Los Angeles\", \"Chicago\", \"Houston\", \"Phoenix\", \"Chicago\", \"Los Angeles\"]\n",
        "}\n",
        "\n",
        "df = pd.DataFrame(data)\n",
        "\n",
        "\n",
        "duplicates = df[df.duplicated()]\n",
        "\n",
        "print(\"Duplicate Rows:\")\n",
        "print(duplicates)\n"
      ],
      "metadata": {
        "colab": {
          "base_uri": "https://localhost:8080/"
        },
        "id": "FvLPmxU5fmjK",
        "outputId": "c4957376-0e30-4b1e-d4c4-8e51f1e8031e"
      },
      "execution_count": null,
      "outputs": [
        {
          "output_type": "stream",
          "name": "stdout",
          "text": [
            "Duplicate Rows:\n",
            "   ID     Name  Age         City\n",
            "5   3  Charlie   35      Chicago\n",
            "6   2      Bob   30  Los Angeles\n"
          ]
        }
      ]
    },
    {
      "cell_type": "markdown",
      "source": [],
      "metadata": {
        "id": "NyQoLiqjHLZi"
      }
    },
    {
      "cell_type": "code",
      "source": [
        " import numpy as np\n",
        "\n",
        "data = [10, 12, 14, 13, 100, 47, 5, 15, 16, 14, 13, 11]\n",
        "Q1 = np.percentile(data, 25)\n",
        "Q3 = np.percentile(data, 75)\n",
        "IQR = Q3 - Q1\n",
        "lower_bound = Q1 - 1.5 * IQR\n",
        "upper_bound = Q3 + 1.5 * IQR\n",
        "outliers = [x for x in data if x < lower_bound or x > upper_bound]\n",
        "print(\"Outliers:\", outliers)\n",
        "\n"
      ],
      "metadata": {
        "id": "UTpl6-ElgvGK",
        "colab": {
          "base_uri": "https://localhost:8080/"
        },
        "outputId": "a12a7691-cde2-41d3-fc1b-90a0a16f8f08"
      },
      "execution_count": null,
      "outputs": [
        {
          "output_type": "stream",
          "name": "stdout",
          "text": [
            "Outliers: [100, 47, 5]\n"
          ]
        }
      ]
    },
    {
      "cell_type": "code",
      "source": [
        "import pandas as pd\n",
        "import numpy as np\n",
        "import matplotlib.pyplot as plt\n",
        "import seaborn as sns\n",
        "\n",
        "np.random.seed(10)\n",
        "data = pd.DataFrame({\n",
        "    'value': np.concatenate([np.random.normal(0, 1, 100), np.random.normal(10, 1, 10)])\n",
        "})\n",
        "\n",
        "Q1 = data['value'].quantile(0.25)\n",
        "Q3 = data['value'].quantile(0.75)\n",
        "IQR = Q3 - Q1\n",
        "lower_bound = Q1 - 1.5 * IQR\n",
        "upper_bound = Q3 + 1.5 * IQR\n",
        "outliers = data[(data['value'] < lower_bound) | (data['value'] > upper_bound)]\n",
        "\n",
        "print(\"Lower Bound:\", lower_bound)\n",
        "print(\"Upper Bound:\", upper_bound)\n",
        "print(\"Outliers:\")\n",
        "print(outliers)\n",
        "\n",
        "plt.figure(figsize=(8, 6))\n",
        "sns.boxplot(data['value'])\n",
        "plt.title('Boxplot of Values with Outliers')\n",
        "plt.show()\n"
      ],
      "metadata": {
        "colab": {
          "base_uri": "https://localhost:8080/",
          "height": 736
        },
        "id": "Si1QcIDiI-dA",
        "outputId": "35416499-ce4d-443b-9ada-11eaf98e9d9e"
      },
      "execution_count": null,
      "outputs": [
        {
          "output_type": "stream",
          "name": "stdout",
          "text": [
            "Lower Bound: -2.3631061943723766\n",
            "Upper Bound: 2.972058326214519\n",
            "Outliers:\n",
            "         value\n",
            "100  10.117476\n",
            "101   8.092543\n",
            "102   9.077091\n",
            "103  10.469751\n",
            "104   9.855633\n",
            "105   9.599862\n",
            "106   9.704016\n",
            "107  10.848209\n",
            "108  10.706830\n",
            "109   9.212731\n"
          ]
        },
        {
          "output_type": "display_data",
          "data": {
            "text/plain": [
              "<Figure size 800x600 with 1 Axes>"
            ],
            "image/png": "[encoded data removed]"
          },
          "metadata": {}
        }
      ]
    }
  ]
}