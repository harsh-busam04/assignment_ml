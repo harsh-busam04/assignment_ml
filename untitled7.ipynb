{
  "nbformat": 4,
  "nbformat_minor": 0,
  "metadata": {
    "colab": {
      "provenance": [],
      "authorship_tag": "ABX9TyO1+i+e/m1+xples8s1a4+Q",
      "include_colab_link": true
    },
    "kernelspec": {
      "name": "python3",
      "display_name": "Python 3"
    },
    "language_info": {
      "name": "python"
    }
  },
  "cells": [
    {
      "cell_type": "markdown",
      "metadata": {
        "id": "view-in-github",
        "colab_type": "text"
      },
      "source": [
        "<a href=\"https://colab.research.google.com/github/harsh-busam04/assignment_ml/blob/main/untitled7.ipynb\" target=\"_parent\"><img src=\"https://colab.research.google.com/assets/colab-badge.svg\" alt=\"Open In Colab\"/></a>"
      ]
    },
    {
      "cell_type": "code",
      "execution_count": null,
      "metadata": {
        "colab": {
          "base_uri": "https://localhost:8080/"
        },
        "id": "elruacdbVrqu",
        "outputId": "1dd00eb3-9e23-4075-989d-414882a06502"
      },
      "outputs": [
        {
          "output_type": "stream",
          "name": "stdout",
          "text": [
            "DataFrame with duplicates:\n",
            "   ID     Name  Age         City\n",
            "0   1    Alice   25     New York\n",
            "1   2      Bob   30  Los Angeles\n",
            "2   3  Charlie   35      Chicago\n",
            "3   2      Bob   30  Los Angeles\n",
            "4   4    David   40      Houston\n",
            "5   3  Charlie   35      Chicago\n"
          ]
        }
      ],
      "source": [
        "import pandas as pd\n",
        "\n",
        "data = {\n",
        "    \"ID\": [1, 2, 3, 2, 4, 3],\n",
        "    \"Name\": [\"Alice\", \"Bob\", \"Charlie\", \"Bob\", \"David\", \"Charlie\"],\n",
        "    \"Age\": [25, 30, 35, 30, 40, 35],\n",
        "    \"City\": [\"New York\", \"Los Angeles\", \"Chicago\", \"Los Angeles\", \"Houston\", \"Chicago\"]\n",
        "}\n",
        "\n",
        "df = pd.DataFrame(data)\n",
        "\n",
        "\n",
        "print(\"DataFrame with duplicates:\")\n",
        "print(df)\n"
      ]
    },
    {
      "cell_type": "code",
      "source": [
        "import pandas as pd\n",
        "import numpy as np\n",
        "\n",
        "\n",
        "data = {\n",
        "    \"ID\": [1, 2, 3, np.nan, 5, 6, 6],\n",
        "    \"Name\": [\"Alice\", \"Bob\", \"Charlie\", \"David\", \"Eve\", \"Eve\", np.nan],\n",
        "    \"Age\": [25, 30, np.nan, 40, np.nan, 35, 35],\n",
        "    \"City\": [\"New York\", \"Los Angeles\", \"Chicago\", \"Houston\", None, \"Houston\", \"Houston\"]\n",
        "}\n",
        "\n",
        "df = pd.DataFrame(data)\n",
        "\n",
        "print(\"Original DataFrame:\")\n",
        "print(df)\n",
        "\n",
        "df = df.drop_duplicates()\n",
        "\n",
        "\n",
        "df['Age'] = df['Age'].fillna(df['Age'].mean())\n",
        "\n",
        "\n",
        "df['Name'] = df['Name'].fillna(\"Unknown\")\n",
        "df['City'] = df['City'].fillna(\"Unknown\")\n",
        "\n",
        "\n",
        "df['City'] = df['City'].str.title()\n",
        "\n",
        "\n",
        "df['ID'] = df['ID'].fillna(-1).astype(int)\n",
        "\n",
        "print(\"\\nCleaned DataFrame:\")\n",
        "print(df)\n"
      ],
      "metadata": {
        "colab": {
          "base_uri": "https://localhost:8080/"
        },
        "id": "n0I1NtqAWzoK",
        "outputId": "de3a8791-6be0-48c6-8b63-d8d115c9fb38"
      },
      "execution_count": null,
      "outputs": [
        {
          "output_type": "stream",
          "name": "stdout",
          "text": [
            "Original DataFrame:\n",
            "    ID     Name   Age         City\n",
            "0  1.0    Alice  25.0     New York\n",
            "1  2.0      Bob  30.0  Los Angeles\n",
            "2  3.0  Charlie   NaN      Chicago\n",
            "3  NaN    David  40.0      Houston\n",
            "4  5.0      Eve   NaN         None\n",
            "5  6.0      Eve  35.0      Houston\n",
            "6  6.0      NaN  35.0      Houston\n",
            "\n",
            "Cleaned DataFrame:\n",
            "   ID     Name   Age         City\n",
            "0   1    Alice  25.0     New York\n",
            "1   2      Bob  30.0  Los Angeles\n",
            "2   3  Charlie  33.0      Chicago\n",
            "3  -1    David  40.0      Houston\n",
            "4   5      Eve  33.0      Unknown\n",
            "5   6      Eve  35.0      Houston\n",
            "6   6  Unknown  35.0      Houston\n"
          ]
        }
      ]
    },
    {
      "cell_type": "code",
      "source": [
        "import pandas as pd\n",
        "import matplotlib.pyplot as plt\n",
        "import_seabprn s sns\n",
        "from statsmodels.graphics.regressionplots impornt influence_plot\n",
        "import statsmodels.formula.api as smf\n",
        "import numpy as np\n",
        "\n",
        "\n"
      ],
      "metadata": {
        "id": "tthDY0VLUecV"
      },
      "execution_count": null,
      "outputs": []
    },
    {
      "cell_type": "code",
      "source": [
        "import pandas as pd\n",
        "\n",
        "# Read the CSV file from the /content/ directory\n",
        "df = pd.read_csv('/content/Cars.csv')\n",
        "\n",
        "# Display the first few rows\n",
        "df.head()\n"
      ],
      "metadata": {
        "colab": {
          "base_uri": "https://localhost:8080/",
          "height": 206
        },
        "id": "OUicZEtsNzBW",
        "outputId": "9ac266f8-4bcf-4b4f-a230-4c9a475c4b3a"
      },
      "execution_count": 2,
      "outputs": [
        {
          "output_type": "execute_result",
          "data": {
            "text/plain": [
              "   HP        MPG  VOL          SP         WT\n",
              "0  49  53.700681   89  104.185353  28.762059\n",
              "1  55  50.013401   92  105.461264  30.466833\n",
              "2  55  50.013401   92  105.461264  30.193597\n",
              "3  70  45.696322   92  113.461264  30.632114\n",
              "4  53  50.504232   92  104.461264  29.889149"
            ],
            "text/html": [
              "\n",
              "  <div id=\"df-11b84126-236e-4158-a3f2-a3de90063b3c\" class=\"colab-df-container\">\n",
              "    <div>\n",
              "<style scoped>\n",
              "    .dataframe tbody tr th:only-of-type {\n",
              "        vertical-align: middle;\n",
              "    }\n",
              "\n",
              "    .dataframe tbody tr th {\n",
              "        vertical-align: top;\n",
              "    }\n",
              "\n",
              "    .dataframe thead th {\n",
              "        text-align: right;\n",
              "    }\n",
              "</style>\n",
              "<table border=\"1\" class=\"dataframe\">\n",
              "  <thead>\n",
              "    <tr style=\"text-align: right;\">\n",
              "      <th></th>\n",
              "      <th>HP</th>\n",
              "      <th>MPG</th>\n",
              "      <th>VOL</th>\n",
              "      <th>SP</th>\n",
              "      <th>WT</th>\n",
              "    </tr>\n",
              "  </thead>\n",
              "  <tbody>\n",
              "    <tr>\n",
              "      <th>0</th>\n",
              "      <td>49</td>\n",
              "      <td>53.700681</td>\n",
              "      <td>89</td>\n",
              "      <td>104.185353</td>\n",
              "      <td>28.762059</td>\n",
              "    </tr>\n",
              "    <tr>\n",
              "      <th>1</th>\n",
              "      <td>55</td>\n",
              "      <td>50.013401</td>\n",
              "      <td>92</td>\n",
              "      <td>105.461264</td>\n",
              "      <td>30.466833</td>\n",
              "    </tr>\n",
              "    <tr>\n",
              "      <th>2</th>\n",
              "      <td>55</td>\n",
              "      <td>50.013401</td>\n",
              "      <td>92</td>\n",
              "      <td>105.461264</td>\n",
              "      <td>30.193597</td>\n",
              "    </tr>\n",
              "    <tr>\n",
              "      <th>3</th>\n",
              "      <td>70</td>\n",
              "      <td>45.696322</td>\n",
              "      <td>92</td>\n",
              "      <td>113.461264</td>\n",
              "      <td>30.632114</td>\n",
              "    </tr>\n",
              "    <tr>\n",
              "      <th>4</th>\n",
              "      <td>53</td>\n",
              "      <td>50.504232</td>\n",
              "      <td>92</td>\n",
              "      <td>104.461264</td>\n",
              "      <td>29.889149</td>\n",
              "    </tr>\n",
              "  </tbody>\n",
              "</table>\n",
              "</div>\n",
              "    <div class=\"colab-df-buttons\">\n",
              "\n",
              "  <div class=\"colab-df-container\">\n",
              "    <button class=\"colab-df-convert\" onclick=\"convertToInteractive('df-11b84126-236e-4158-a3f2-a3de90063b3c')\"\n",
              "            title=\"Convert this dataframe to an interactive table.\"\n",
              "            style=\"display:none;\">\n",
              "\n",
              "  <svg xmlns=\"http://www.w3.org/2000/svg\" height=\"24px\" viewBox=\"0 -960 960 960\">\n",
              "    <path d=\"M120-120v-720h720v720H120Zm60-500h600v-160H180v160Zm220 220h160v-160H400v160Zm0 220h160v-160H400v160ZM180-400h160v-160H180v160Zm440 0h160v-160H620v160ZM180-180h160v-160H180v160Zm440 0h160v-160H620v160Z\"/>\n",
              "  </svg>\n",
              "    </button>\n",
              "\n",
              "  <style>\n",
              "    .colab-df-container {\n",
              "      display:flex;\n",
              "      gap: 12px;\n",
              "    }\n",
              "\n",
              "    .colab-df-convert {\n",
              "      background-color: #E8F0FE;\n",
              "      border: none;\n",
              "      border-radius: 50%;\n",
              "      cursor: pointer;\n",
              "      display: none;\n",
              "      fill: #1967D2;\n",
              "      height: 32px;\n",
              "      padding: 0 0 0 0;\n",
              "      width: 32px;\n",
              "    }\n",
              "\n",
              "    .colab-df-convert:hover {\n",
              "      background-color: #E2EBFA;\n",
              "      box-shadow: 0px 1px 2px rgba(60, 64, 67, 0.3), 0px 1px 3px 1px rgba(60, 64, 67, 0.15);\n",
              "      fill: #174EA6;\n",
              "    }\n",
              "\n",
              "    .colab-df-buttons div {\n",
              "      margin-bottom: 4px;\n",
              "    }\n",
              "\n",
              "    [theme=dark] .colab-df-convert {\n",
              "      background-color: #3B4455;\n",
              "      fill: #D2E3FC;\n",
              "    }\n",
              "\n",
              "    [theme=dark] .colab-df-convert:hover {\n",
              "      background-color: #434B5C;\n",
              "      box-shadow: 0px 1px 3px 1px rgba(0, 0, 0, 0.15);\n",
              "      filter: drop-shadow(0px 1px 2px rgba(0, 0, 0, 0.3));\n",
              "      fill: #FFFFFF;\n",
              "    }\n",
              "  </style>\n",
              "\n",
              "    <script>\n",
              "      const buttonEl =\n",
              "        document.querySelector('#df-11b84126-236e-4158-a3f2-a3de90063b3c button.colab-df-convert');\n",
              "      buttonEl.style.display =\n",
              "        google.colab.kernel.accessAllowed ? 'block' : 'none';\n",
              "\n",
              "      async function convertToInteractive(key) {\n",
              "        const element = document.querySelector('#df-11b84126-236e-4158-a3f2-a3de90063b3c');\n",
              "        const dataTable =\n",
              "          await google.colab.kernel.invokeFunction('convertToInteractive',\n",
              "                                                    [key], {});\n",
              "        if (!dataTable) return;\n",
              "\n",
              "        const docLinkHtml = 'Like what you see? Visit the ' +\n",
              "          '<a target=\"_blank\" href=https://colab.research.google.com/notebooks/data_table.ipynb>data table notebook</a>'\n",
              "          + ' to learn more about interactive tables.';\n",
              "        element.innerHTML = '';\n",
              "        dataTable['output_type'] = 'display_data';\n",
              "        await google.colab.output.renderOutput(dataTable, element);\n",
              "        const docLink = document.createElement('div');\n",
              "        docLink.innerHTML = docLinkHtml;\n",
              "        element.appendChild(docLink);\n",
              "      }\n",
              "    </script>\n",
              "  </div>\n",
              "\n",
              "\n",
              "<div id=\"df-6f0a94fb-6c3d-4653-95f2-f11fcd0dd78c\">\n",
              "  <button class=\"colab-df-quickchart\" onclick=\"quickchart('df-6f0a94fb-6c3d-4653-95f2-f11fcd0dd78c')\"\n",
              "            title=\"Suggest charts\"\n",
              "            style=\"display:none;\">\n",
              "\n",
              "<svg xmlns=\"http://www.w3.org/2000/svg\" height=\"24px\"viewBox=\"0 0 24 24\"\n",
              "     width=\"24px\">\n",
              "    <g>\n",
              "        <path d=\"M19 3H5c-1.1 0-2 .9-2 2v14c0 1.1.9 2 2 2h14c1.1 0 2-.9 2-2V5c0-1.1-.9-2-2-2zM9 17H7v-7h2v7zm4 0h-2V7h2v10zm4 0h-2v-4h2v4z\"/>\n",
              "    </g>\n",
              "</svg>\n",
              "  </button>\n",
              "\n",
              "<style>\n",
              "  .colab-df-quickchart {\n",
              "      --bg-color: #E8F0FE;\n",
              "      --fill-color: #1967D2;\n",
              "      --hover-bg-color: #E2EBFA;\n",
              "      --hover-fill-color: #174EA6;\n",
              "      --disabled-fill-color: #AAA;\n",
              "      --disabled-bg-color: #DDD;\n",
              "  }\n",
              "\n",
              "  [theme=dark] .colab-df-quickchart {\n",
              "      --bg-color: #3B4455;\n",
              "      --fill-color: #D2E3FC;\n",
              "      --hover-bg-color: #434B5C;\n",
              "      --hover-fill-color: #FFFFFF;\n",
              "      --disabled-bg-color: #3B4455;\n",
              "      --disabled-fill-color: #666;\n",
              "  }\n",
              "\n",
              "  .colab-df-quickchart {\n",
              "    background-color: var(--bg-color);\n",
              "    border: none;\n",
              "    border-radius: 50%;\n",
              "    cursor: pointer;\n",
              "    display: none;\n",
              "    fill: var(--fill-color);\n",
              "    height: 32px;\n",
              "    padding: 0;\n",
              "    width: 32px;\n",
              "  }\n",
              "\n",
              "  .colab-df-quickchart:hover {\n",
              "    background-color: var(--hover-bg-color);\n",
              "    box-shadow: 0 1px 2px rgba(60, 64, 67, 0.3), 0 1px 3px 1px rgba(60, 64, 67, 0.15);\n",
              "    fill: var(--button-hover-fill-color);\n",
              "  }\n",
              "\n",
              "  .colab-df-quickchart-complete:disabled,\n",
              "  .colab-df-quickchart-complete:disabled:hover {\n",
              "    background-color: var(--disabled-bg-color);\n",
              "    fill: var(--disabled-fill-color);\n",
              "    box-shadow: none;\n",
              "  }\n",
              "\n",
              "  .colab-df-spinner {\n",
              "    border: 2px solid var(--fill-color);\n",
              "    border-color: transparent;\n",
              "    border-bottom-color: var(--fill-color);\n",
              "    animation:\n",
              "      spin 1s steps(1) infinite;\n",
              "  }\n",
              "\n",
              "  @keyframes spin {\n",
              "    0% {\n",
              "      border-color: transparent;\n",
              "      border-bottom-color: var(--fill-color);\n",
              "      border-left-color: var(--fill-color);\n",
              "    }\n",
              "    20% {\n",
              "      border-color: transparent;\n",
              "      border-left-color: var(--fill-color);\n",
              "      border-top-color: var(--fill-color);\n",
              "    }\n",
              "    30% {\n",
              "      border-color: transparent;\n",
              "      border-left-color: var(--fill-color);\n",
              "      border-top-color: var(--fill-color);\n",
              "      border-right-color: var(--fill-color);\n",
              "    }\n",
              "    40% {\n",
              "      border-color: transparent;\n",
              "      border-right-color: var(--fill-color);\n",
              "      border-top-color: var(--fill-color);\n",
              "    }\n",
              "    60% {\n",
              "      border-color: transparent;\n",
              "      border-right-color: var(--fill-color);\n",
              "    }\n",
              "    80% {\n",
              "      border-color: transparent;\n",
              "      border-right-color: var(--fill-color);\n",
              "      border-bottom-color: var(--fill-color);\n",
              "    }\n",
              "    90% {\n",
              "      border-color: transparent;\n",
              "      border-bottom-color: var(--fill-color);\n",
              "    }\n",
              "  }\n",
              "</style>\n",
              "\n",
              "  <script>\n",
              "    async function quickchart(key) {\n",
              "      const quickchartButtonEl =\n",
              "        document.querySelector('#' + key + ' button');\n",
              "      quickchartButtonEl.disabled = true;  // To prevent multiple clicks.\n",
              "      quickchartButtonEl.classList.add('colab-df-spinner');\n",
              "      try {\n",
              "        const charts = await google.colab.kernel.invokeFunction(\n",
              "            'suggestCharts', [key], {});\n",
              "      } catch (error) {\n",
              "        console.error('Error during call to suggestCharts:', error);\n",
              "      }\n",
              "      quickchartButtonEl.classList.remove('colab-df-spinner');\n",
              "      quickchartButtonEl.classList.add('colab-df-quickchart-complete');\n",
              "    }\n",
              "    (() => {\n",
              "      let quickchartButtonEl =\n",
              "        document.querySelector('#df-6f0a94fb-6c3d-4653-95f2-f11fcd0dd78c button');\n",
              "      quickchartButtonEl.style.display =\n",
              "        google.colab.kernel.accessAllowed ? 'block' : 'none';\n",
              "    })();\n",
              "  </script>\n",
              "</div>\n",
              "\n",
              "    </div>\n",
              "  </div>\n"
            ],
            "application/vnd.google.colaboratory.intrinsic+json": {
              "type": "dataframe",
              "variable_name": "df",
              "summary": "{\n  \"name\": \"df\",\n  \"rows\": 81,\n  \"fields\": [\n    {\n      \"column\": \"HP\",\n      \"properties\": {\n        \"dtype\": \"number\",\n        \"std\": 57,\n        \"min\": 49,\n        \"max\": 322,\n        \"num_unique_values\": 40,\n        \"samples\": [\n          93,\n          84,\n          103\n        ],\n        \"semantic_type\": \"\",\n        \"description\": \"\"\n      }\n    },\n    {\n      \"column\": \"MPG\",\n      \"properties\": {\n        \"dtype\": \"number\",\n        \"std\": 9.131444731795982,\n        \"min\": 12.10126289,\n        \"max\": 53.70068138,\n        \"num_unique_values\": 50,\n        \"samples\": [\n          38.31060597,\n          23.10317168,\n          27.85625194\n        ],\n        \"semantic_type\": \"\",\n        \"description\": \"\"\n      }\n    },\n    {\n      \"column\": \"VOL\",\n      \"properties\": {\n        \"dtype\": \"number\",\n        \"std\": 22,\n        \"min\": 50,\n        \"max\": 160,\n        \"num_unique_values\": 34,\n        \"samples\": [\n          98,\n          102,\n          127\n        ],\n        \"semantic_type\": \"\",\n        \"description\": \"\"\n      }\n    },\n    {\n      \"column\": \"SP\",\n      \"properties\": {\n        \"dtype\": \"number\",\n        \"std\": 14.18143157452861,\n        \"min\": 99.56490661,\n        \"max\": 169.5985128,\n        \"num_unique_values\": 68,\n        \"samples\": [\n          115.5765794,\n          113.8291446,\n          113.1853528\n        ],\n        \"semantic_type\": \"\",\n        \"description\": \"\"\n      }\n    },\n    {\n      \"column\": \"WT\",\n      \"properties\": {\n        \"dtype\": \"number\",\n        \"std\": 7.492812997393198,\n        \"min\": 15.71285853,\n        \"max\": 52.99775236,\n        \"num_unique_values\": 81,\n        \"samples\": [\n          37.04235003,\n          28.7620589,\n          32.6758277\n        ],\n        \"semantic_type\": \"\",\n        \"description\": \"\"\n      }\n    }\n  ]\n}"
            }
          },
          "metadata": {},
          "execution_count": 2
        }
      ]
    },
    {
      "cell_type": "code",
      "source": [
        "import pandas as pd\n",
        "\n",
        "\n",
        "df = pd.read_csv('/content/Cars.csv')\n",
        "\n",
        "\n",
        "correlation_matrix = df.corr()\n",
        "\n",
        "\n",
        "print(correlation_matrix)\n"
      ],
      "metadata": {
        "colab": {
          "base_uri": "https://localhost:8080/"
        },
        "id": "v4ICU70DV_nA",
        "outputId": "13424bd3-fd65-4220-822c-a079a08349b0"
      },
      "execution_count": 3,
      "outputs": [
        {
          "output_type": "stream",
          "name": "stdout",
          "text": [
            "           HP       MPG       VOL        SP        WT\n",
            "HP   1.000000 -0.725038  0.077459  0.973848  0.076513\n",
            "MPG -0.725038  1.000000 -0.529057 -0.687125 -0.526759\n",
            "VOL  0.077459 -0.529057  1.000000  0.102170  0.999203\n",
            "SP   0.973848 -0.687125  0.102170  1.000000  0.102439\n",
            "WT   0.076513 -0.526759  0.999203  0.102439  1.000000\n"
          ]
        }
      ]
    },
    {
      "cell_type": "code",
      "source": [
        "import seaborn as sns\n",
        "import matplotlib.pyplot as plt\n",
        "\n",
        "\n",
        "plt.figure(figsize=(10, 6))\n",
        "sns.heatmap(correlation_matrix, annot=True, cmap=\"coolwarm\", fmt=\".2f\")\n",
        "plt.title(\"Correlation Matrix of Cars Dataset\")\n",
        "plt.show()\n"
      ],
      "metadata": {
        "colab": {
          "base_uri": "https://localhost:8080/",
          "height": 449
        },
        "id": "HKXUQFg-WIkO",
        "outputId": "7e838ac1-f766-434a-ec68-4bb600bcac06"
      },
      "execution_count": 5,
      "outputs": [
        {
          "output_type": "display_data",
          "data": {
            "text/plain": [
              "<Figure size 1000x600 with 2 Axes>"
            ],
            "image/png": "[encoded data removed]"
          },
          "metadata": {}
        }
      ]
    },
    {
      "cell_type": "code",
      "source": [
        "import pandas as pd\n",
        "import matplotlib.pyplot as plt\n",
        "\n",
        "df = pd.read_csv(\"Cars.csv\")\n",
        "plt.figure(figsize=(8,6))\n",
        "plt.scatter(df[\"HP\"], df[\"MPG\"], color='blue', alpha=0.6)\n",
        "plt.xlabel(\"Horsepower (HP)\")\n",
        "plt.ylabel(\"Miles per Gallon (MPG)\")\n",
        "plt.title(\"Scatter Plot of HP vs MPG\")\n",
        "plt.grid(True)\n",
        "plt.show()"
      ],
      "metadata": {
        "colab": {
          "base_uri": "https://localhost:8080/",
          "height": 518
        },
        "id": "ZZuN4kknWoM3",
        "outputId": "94be7857-c082-41bd-9b02-a3f94882f0cd"
      },
      "execution_count": 11,
      "outputs": [
        {
          "output_type": "display_data",
          "data": {
            "text/plain": [
              "<Figure size 800x600 with 1 Axes>"
            ],
            "image/png": "[encoded data removed]"
          },
          "metadata": {}
        }
      ]
    },
    {
      "cell_type": "code",
      "source": [
        "import pandas as pd\n",
        "import matplotlib.pyplot as plt\n",
        "\n",
        "# Load the dataset\n",
        "df = pd.read_csv('/content/Cars.csv')\n",
        "\n",
        "# Replace 'ColumnName' with the actual column you want to plot\n",
        "column_name = 'MPG'  # Example: Change this to a numerical column in your dataset\n",
        "\n",
        "# Create histogram\n",
        "plt.figure(figsize=(8, 6))\n",
        "plt.hist(df[column_name], bins=20, color='blue', edgecolor='black', alpha=0.7)\n",
        "\n",
        "# Labels and title\n",
        "plt.xlabel(column_name)\n",
        "plt.ylabel(\"Frequency\")\n",
        "plt.title(f\"Histogram of {column_name}\")\n",
        "\n",
        "# Show the plot\n",
        "plt.show()\n"
      ],
      "metadata": {
        "colab": {
          "base_uri": "https://localhost:8080/",
          "height": 524
        },
        "id": "NwEEhB0eYQiE",
        "outputId": "586c1939-21f1-434c-f209-af4183a90248"
      },
      "execution_count": 12,
      "outputs": [
        {
          "output_type": "display_data",
          "data": {
            "text/plain": [
              "<Figure size 800x600 with 1 Axes>"
            ],
            "image/png": "[encoded data removed]"
          },
          "metadata": {}
        }
      ]
    },
    {
      "cell_type": "code",
      "source": [
        "import pandas as pd\n",
        "import numpy as np\n",
        "import matplotlib.pyplot as plt\n",
        "import seaborn as sns\n",
        "from sklearn.model_selection import train_test_split\n",
        "from sklearn.linear_model import LinearRegression\n",
        "from sklearn.metrics import mean_absolute_error, mean_squared_error, r2_score\n",
        "\n",
        "# Load the dataset\n",
        "df = pd.read_csv('/content/Cars.csv')\n",
        "\n",
        "# Check for missing values\n",
        "print(df.isnull().sum())\n",
        "\n",
        "# Drop rows with missing values (if any)\n",
        "df.dropna(inplace=True)\n",
        "\n",
        "# Check the columns to ensure the features exist\n",
        "print(df.columns)\n",
        "\n",
        "# Select features (X) and target variable (y)\n",
        "X = df[['Horsepower', 'Weight', 'Displacement']]  # Replace with relevant numerical features\n",
        "y = df['MPG']  # Target variable (miles per gallon)\n",
        "\n",
        "# Ensure the features and target are of the correct data type\n",
        "X = X.astype(float)\n",
        "y = y.astype(float)\n",
        "\n",
        "# Split data into training (80%) and testing (20%) sets\n",
        "X_train, X_test, y_train, y_test = train_test_split(X, y, test_size=0.2, random_state=42)\n",
        "\n",
        "# Initialize and train the model\n",
        "model = LinearRegression()\n",
        "model.fit(X_train, y_train)\n",
        "\n",
        "# Make predictions\n",
        "y_pred = model.predict(X_test)\n",
        "\n",
        "# Evaluate the model\n",
        "mae = mean_absolute_error(y_test, y_pred)\n",
        "mse = mean_squared_error(y_test, y_pred)\n",
        "r2 = r2_score(y_test, y_pred)\n",
        "\n",
        "# Print evaluation metrics\n",
        "print(f\"Mean Absolute Error (MAE): {mae}\")\n",
        "print(f\"Mean Squared Error (MSE): {mse}\")\n",
        "print(f\"R² Score: {r2}\")\n",
        "\n",
        "# Scatter plot of actual vs predicted values\n",
        "plt.figure(figsize=(8, 6))\n",
        "plt.scatter(y_test, y_pred, color='blue', alpha=0.5)\n",
        "plt.xlabel(\"Actual MPG\")\n",
        "plt.ylabel(\"Predicted MPG\")\n",
        "plt.title(\"Actual vs Predicted MPG\")\n",
        "\n",
        "# Add a line of best fit\n",
        "plt.plot([y.min(), y.max()], [y.min(), y.max()], color='red', linestyle='--')\n",
        "\n",
        "plt.show()"
      ],
      "metadata": {
        "colab": {
          "base_uri": "https://localhost:8080/",
          "height": 590
        },
        "id": "wNuwSZUrYz-a",
        "outputId": "ecf1dce4-f64c-4214-faf1-8feab497bebd"
      },
      "execution_count": 14,
      "outputs": [
        {
          "output_type": "stream",
          "name": "stdout",
          "text": [
            "HP     0\n",
            "MPG    0\n",
            "VOL    0\n",
            "SP     0\n",
            "WT     0\n",
            "dtype: int64\n",
            "Index(['HP', 'MPG', 'VOL', 'SP', 'WT'], dtype='object')\n"
          ]
        },
        {
          "output_type": "error",
          "ename": "KeyError",
          "evalue": "\"None of [Index(['Horsepower', 'Weight', 'Displacement'], dtype='object')] are in the [columns]\"",
          "traceback": [
            "\u001b[0;31m---------------------------------------------------------------------------\u001b[0m",
            "\u001b[0;31mKeyError\u001b[0m                                  Traceback (most recent call last)",
            "\u001b[0;32m<ipython-input-14-a0e56376a7a9>\u001b[0m in \u001b[0;36m<cell line: 0>\u001b[0;34m()\u001b[0m\n\u001b[1;32m     20\u001b[0m \u001b[0;34m\u001b[0m\u001b[0m\n\u001b[1;32m     21\u001b[0m \u001b[0;31m# Select features (X) and target variable (y)\u001b[0m\u001b[0;34m\u001b[0m\u001b[0;34m\u001b[0m\u001b[0m\n\u001b[0;32m---> 22\u001b[0;31m \u001b[0mX\u001b[0m \u001b[0;34m=\u001b[0m \u001b[0mdf\u001b[0m\u001b[0;34m[\u001b[0m\u001b[0;34m[\u001b[0m\u001b[0;34m'Horsepower'\u001b[0m\u001b[0;34m,\u001b[0m \u001b[0;34m'Weight'\u001b[0m\u001b[0;34m,\u001b[0m \u001b[0;34m'Displacement'\u001b[0m\u001b[0;34m]\u001b[0m\u001b[0;34m]\u001b[0m  \u001b[0;31m# Replace with relevant numerical features\u001b[0m\u001b[0;34m\u001b[0m\u001b[0;34m\u001b[0m\u001b[0m\n\u001b[0m\u001b[1;32m     23\u001b[0m \u001b[0my\u001b[0m \u001b[0;34m=\u001b[0m \u001b[0mdf\u001b[0m\u001b[0;34m[\u001b[0m\u001b[0;34m'MPG'\u001b[0m\u001b[0;34m]\u001b[0m  \u001b[0;31m# Target variable (miles per gallon)\u001b[0m\u001b[0;34m\u001b[0m\u001b[0;34m\u001b[0m\u001b[0m\n\u001b[1;32m     24\u001b[0m \u001b[0;34m\u001b[0m\u001b[0m\n",
            "\u001b[0;32m/usr/local/lib/python3.11/dist-packages/pandas/core/frame.py\u001b[0m in \u001b[0;36m__getitem__\u001b[0;34m(self, key)\u001b[0m\n\u001b[1;32m   4106\u001b[0m             \u001b[0;32mif\u001b[0m \u001b[0mis_iterator\u001b[0m\u001b[0;34m(\u001b[0m\u001b[0mkey\u001b[0m\u001b[0;34m)\u001b[0m\u001b[0;34m:\u001b[0m\u001b[0;34m\u001b[0m\u001b[0;34m\u001b[0m\u001b[0m\n\u001b[1;32m   4107\u001b[0m                 \u001b[0mkey\u001b[0m \u001b[0;34m=\u001b[0m \u001b[0mlist\u001b[0m\u001b[0;34m(\u001b[0m\u001b[0mkey\u001b[0m\u001b[0;34m)\u001b[0m\u001b[0;34m\u001b[0m\u001b[0;34m\u001b[0m\u001b[0m\n\u001b[0;32m-> 4108\u001b[0;31m             \u001b[0mindexer\u001b[0m \u001b[0;34m=\u001b[0m \u001b[0mself\u001b[0m\u001b[0;34m.\u001b[0m\u001b[0mcolumns\u001b[0m\u001b[0;34m.\u001b[0m\u001b[0m_get_indexer_strict\u001b[0m\u001b[0;34m(\u001b[0m\u001b[0mkey\u001b[0m\u001b[0;34m,\u001b[0m \u001b[0;34m\"columns\"\u001b[0m\u001b[0;34m)\u001b[0m\u001b[0;34m[\u001b[0m\u001b[0;36m1\u001b[0m\u001b[0;34m]\u001b[0m\u001b[0;34m\u001b[0m\u001b[0;34m\u001b[0m\u001b[0m\n\u001b[0m\u001b[1;32m   4109\u001b[0m \u001b[0;34m\u001b[0m\u001b[0m\n\u001b[1;32m   4110\u001b[0m         \u001b[0;31m# take() does not accept boolean indexers\u001b[0m\u001b[0;34m\u001b[0m\u001b[0;34m\u001b[0m\u001b[0m\n",
            "\u001b[0;32m/usr/local/lib/python3.11/dist-packages/pandas/core/indexes/base.py\u001b[0m in \u001b[0;36m_get_indexer_strict\u001b[0;34m(self, key, axis_name)\u001b[0m\n\u001b[1;32m   6198\u001b[0m             \u001b[0mkeyarr\u001b[0m\u001b[0;34m,\u001b[0m \u001b[0mindexer\u001b[0m\u001b[0;34m,\u001b[0m \u001b[0mnew_indexer\u001b[0m \u001b[0;34m=\u001b[0m \u001b[0mself\u001b[0m\u001b[0;34m.\u001b[0m\u001b[0m_reindex_non_unique\u001b[0m\u001b[0;34m(\u001b[0m\u001b[0mkeyarr\u001b[0m\u001b[0;34m)\u001b[0m\u001b[0;34m\u001b[0m\u001b[0;34m\u001b[0m\u001b[0m\n\u001b[1;32m   6199\u001b[0m \u001b[0;34m\u001b[0m\u001b[0m\n\u001b[0;32m-> 6200\u001b[0;31m         \u001b[0mself\u001b[0m\u001b[0;34m.\u001b[0m\u001b[0m_raise_if_missing\u001b[0m\u001b[0;34m(\u001b[0m\u001b[0mkeyarr\u001b[0m\u001b[0;34m,\u001b[0m \u001b[0mindexer\u001b[0m\u001b[0;34m,\u001b[0m \u001b[0maxis_name\u001b[0m\u001b[0;34m)\u001b[0m\u001b[0;34m\u001b[0m\u001b[0;34m\u001b[0m\u001b[0m\n\u001b[0m\u001b[1;32m   6201\u001b[0m \u001b[0;34m\u001b[0m\u001b[0m\n\u001b[1;32m   6202\u001b[0m         \u001b[0mkeyarr\u001b[0m \u001b[0;34m=\u001b[0m \u001b[0mself\u001b[0m\u001b[0;34m.\u001b[0m\u001b[0mtake\u001b[0m\u001b[0;34m(\u001b[0m\u001b[0mindexer\u001b[0m\u001b[0;34m)\u001b[0m\u001b[0;34m\u001b[0m\u001b[0;34m\u001b[0m\u001b[0m\n",
            "\u001b[0;32m/usr/local/lib/python3.11/dist-packages/pandas/core/indexes/base.py\u001b[0m in \u001b[0;36m_raise_if_missing\u001b[0;34m(self, key, indexer, axis_name)\u001b[0m\n\u001b[1;32m   6247\u001b[0m         \u001b[0;32mif\u001b[0m \u001b[0mnmissing\u001b[0m\u001b[0;34m:\u001b[0m\u001b[0;34m\u001b[0m\u001b[0;34m\u001b[0m\u001b[0m\n\u001b[1;32m   6248\u001b[0m             \u001b[0;32mif\u001b[0m \u001b[0mnmissing\u001b[0m \u001b[0;34m==\u001b[0m \u001b[0mlen\u001b[0m\u001b[0;34m(\u001b[0m\u001b[0mindexer\u001b[0m\u001b[0;34m)\u001b[0m\u001b[0;34m:\u001b[0m\u001b[0;34m\u001b[0m\u001b[0;34m\u001b[0m\u001b[0m\n\u001b[0;32m-> 6249\u001b[0;31m                 \u001b[0;32mraise\u001b[0m \u001b[0mKeyError\u001b[0m\u001b[0;34m(\u001b[0m\u001b[0;34mf\"None of [{key}] are in the [{axis_name}]\"\u001b[0m\u001b[0;34m)\u001b[0m\u001b[0;34m\u001b[0m\u001b[0;34m\u001b[0m\u001b[0m\n\u001b[0m\u001b[1;32m   6250\u001b[0m \u001b[0;34m\u001b[0m\u001b[0m\n\u001b[1;32m   6251\u001b[0m             \u001b[0mnot_found\u001b[0m \u001b[0;34m=\u001b[0m \u001b[0mlist\u001b[0m\u001b[0;34m(\u001b[0m\u001b[0mensure_index\u001b[0m\u001b[0;34m(\u001b[0m\u001b[0mkey\u001b[0m\u001b[0;34m)\u001b[0m\u001b[0;34m[\u001b[0m\u001b[0mmissing_mask\u001b[0m\u001b[0;34m.\u001b[0m\u001b[0mnonzero\u001b[0m\u001b[0;34m(\u001b[0m\u001b[0;34m)\u001b[0m\u001b[0;34m[\u001b[0m\u001b[0;36m0\u001b[0m\u001b[0;34m]\u001b[0m\u001b[0;34m]\u001b[0m\u001b[0;34m.\u001b[0m\u001b[0munique\u001b[0m\u001b[0;34m(\u001b[0m\u001b[0;34m)\u001b[0m\u001b[0;34m)\u001b[0m\u001b[0;34m\u001b[0m\u001b[0;34m\u001b[0m\u001b[0m\n",
            "\u001b[0;31mKeyError\u001b[0m: \"None of [Index(['Horsepower', 'Weight', 'Displacement'], dtype='object')] are in the [columns]\""
          ]
        }
      ]
    },
    {
      "cell_type": "code",
      "source": [
        "import pandas as pd\n",
        "import numpy as np\n",
        "\n",
        "\n",
        "data = {\n",
        "    \"Image_ID\": [\"IMG_001\", \"IMG_002\", \"IMG_003\", \"IMG_004\", \"IMG_005\", \"IMG_006\"],\n",
        "    \"Person_ID\": [1, 2, 3, np.nan, 5, 6],\n",
        "    \"Helmet_Detected\": [\"Yes\", \"No\", np.nan, \"Yes\", \"No\", \"Yes\"],\n",
        "    \"Confidence_Score\": [0.98, 0.85, np.nan, 0.95, 0.72, np.nan],\n",
        "    \"Time_Stamp\": [\"2025-01-22 14:32:01\", \"2025-01-22 14:33:15\", np.nan, \"2025-01-22 14:34:10\", np.nan, \"2025-01-22 14:36:45\"]\n",
        "}\n",
        "\n",
        "df = pd.DataFrame(data)\n",
        "\n",
        "print(\"Sample DataFrame with Missing Values:\")\n",
        "print(df)\n"
      ],
      "metadata": {
        "colab": {
          "base_uri": "https://localhost:8080/"
        },
        "id": "SWjS2eQ8ZAZD",
        "outputId": "aa405f70-eca9-47c0-f5b0-36c243f435c4"
      },
      "execution_count": null,
      "outputs": [
        {
          "output_type": "stream",
          "name": "stdout",
          "text": [
            "Sample DataFrame with Missing Values:\n",
            "  Image_ID  Person_ID Helmet_Detected  Confidence_Score           Time_Stamp\n",
            "0  IMG_001        1.0             Yes              0.98  2025-01-22 14:32:01\n",
            "1  IMG_002        2.0              No              0.85  2025-01-22 14:33:15\n",
            "2  IMG_003        3.0             NaN               NaN                  NaN\n",
            "3  IMG_004        NaN             Yes              0.95  2025-01-22 14:34:10\n",
            "4  IMG_005        5.0              No              0.72                  NaN\n",
            "5  IMG_006        6.0             Yes               NaN  2025-01-22 14:36:45\n"
          ]
        }
      ]
    },
    {
      "cell_type": "code",
      "source": [
        "import pandas as pd\n",
        "import numpy as np\n",
        "\n",
        "\n",
        "data = {\n",
        "    \"Image_ID\": [\"IMG_001\", \"IMG_002\", \"IMG_003\", \"IMG_004\", \"IMG_005\", \"IMG_006\"],\n",
        "    \"Person_ID\": [1, 2, 3, np.nan, 5, 6],\n",
        "    \"Helmet_Detected\": [\"Yes\", \"No\", np.nan, \"Yes\", \"No\", \"Yes\"],\n",
        "    \"Confidence_Score\": [0.98, 0.85, np.nan, 0.95, 0.72, np.nan],\n",
        "    \"Time_Stamp\": [\"2025-01-22 14:32:01\", \"2025-01-22 14:33:15\", np.nan, \"2025-01-22 14:34:10\", np.nan, \"2025-01-22 14:36:45\"]\n",
        "}\n",
        "\n",
        "df = pd.DataFrame(data)\n",
        "\n",
        "print(\"Original DataFrame:\")\n",
        "print(df)\n",
        "\n",
        "\n",
        "df['Person_ID'] = df['Person_ID'].fillna(df['Person_ID'].median())\n",
        "\n",
        "\n",
        "df['Confidence_Score'] = df['Confidence_Score'].fillna(df['Confidence_Score'].mean())\n",
        "\n",
        "print(\"\\nDataFrame after handling missing values in numerical columns:\")\n",
        "print(df)\n"
      ],
      "metadata": {
        "colab": {
          "base_uri": "https://localhost:8080/"
        },
        "id": "NmFI3cIAZtwz",
        "outputId": "65889d5f-e00d-4d51-802d-eab42b8dc5a2"
      },
      "execution_count": null,
      "outputs": [
        {
          "output_type": "stream",
          "name": "stdout",
          "text": [
            "Original DataFrame:\n",
            "  Image_ID  Person_ID Helmet_Detected  Confidence_Score           Time_Stamp\n",
            "0  IMG_001        1.0             Yes              0.98  2025-01-22 14:32:01\n",
            "1  IMG_002        2.0              No              0.85  2025-01-22 14:33:15\n",
            "2  IMG_003        3.0             NaN               NaN                  NaN\n",
            "3  IMG_004        NaN             Yes              0.95  2025-01-22 14:34:10\n",
            "4  IMG_005        5.0              No              0.72                  NaN\n",
            "5  IMG_006        6.0             Yes               NaN  2025-01-22 14:36:45\n",
            "\n",
            "DataFrame after handling missing values in numerical columns:\n",
            "  Image_ID  Person_ID Helmet_Detected  Confidence_Score           Time_Stamp\n",
            "0  IMG_001        1.0             Yes             0.980  2025-01-22 14:32:01\n",
            "1  IMG_002        2.0              No             0.850  2025-01-22 14:33:15\n",
            "2  IMG_003        3.0             NaN             0.875                  NaN\n",
            "3  IMG_004        3.0             Yes             0.950  2025-01-22 14:34:10\n",
            "4  IMG_005        5.0              No             0.720                  NaN\n",
            "5  IMG_006        6.0             Yes             0.875  2025-01-22 14:36:45\n"
          ]
        }
      ]
    },
    {
      "cell_type": "code",
      "source": [
        "import pandas as pd\n",
        "import numpy as np\n",
        "\n",
        "\n",
        "data = {\n",
        "    \"Image_ID\": [\"IMG_001\", \"IMG_002\", \"IMG_003\", \"IMG_004\", \"IMG_005\", \"IMG_006\"],\n",
        "    \"Person_ID\": [1, 2, 3, np.nan, 5, 6],\n",
        "    \"Helmet_Detected\": [\"Yes\", \"No\", np.nan, \"Yes\", \"No\", \"Yes\"],\n",
        "    \"Confidence_Score\": [0.98, 0.85, np.nan, 0.95, 0.72, np.nan],\n",
        "    \"Time_Stamp\": [\"2025-01-22 14:32:01\", \"2025-01-22 14:33:15\", np.nan, \"2025-01-22 14:34:10\", np.nan, \"2025-01-22 14:36:45\"]\n",
        "}\n",
        "\n",
        "df = pd.DataFrame(data)\n",
        "\n",
        "print(\"Original DataFrame:\")\n",
        "print(df)\n",
        "\n",
        "\n",
        "df = df.apply(lambda col: col.fillna(col.mean()) if col.dtype in ['float64', 'int64'] else col)\n",
        "\n",
        "print(\"\\nDataFrame after replacing missing values with the mean for numerical columns:\")\n",
        "print(df)\n"
      ],
      "metadata": {
        "colab": {
          "base_uri": "https://localhost:8080/"
        },
        "id": "6GgrnnqGarTs",
        "outputId": "666e1ff9-3b02-425b-900b-6a2fdb139451"
      },
      "execution_count": null,
      "outputs": [
        {
          "output_type": "stream",
          "name": "stdout",
          "text": [
            "Original DataFrame:\n",
            "  Image_ID  Person_ID Helmet_Detected  Confidence_Score           Time_Stamp\n",
            "0  IMG_001        1.0             Yes              0.98  2025-01-22 14:32:01\n",
            "1  IMG_002        2.0              No              0.85  2025-01-22 14:33:15\n",
            "2  IMG_003        3.0             NaN               NaN                  NaN\n",
            "3  IMG_004        NaN             Yes              0.95  2025-01-22 14:34:10\n",
            "4  IMG_005        5.0              No              0.72                  NaN\n",
            "5  IMG_006        6.0             Yes               NaN  2025-01-22 14:36:45\n",
            "\n",
            "DataFrame after replacing missing values with the mean for numerical columns:\n",
            "  Image_ID  Person_ID Helmet_Detected  Confidence_Score           Time_Stamp\n",
            "0  IMG_001        1.0             Yes             0.980  2025-01-22 14:32:01\n",
            "1  IMG_002        2.0              No             0.850  2025-01-22 14:33:15\n",
            "2  IMG_003        3.0             NaN             0.875                  NaN\n",
            "3  IMG_004        3.4             Yes             0.950  2025-01-22 14:34:10\n",
            "4  IMG_005        5.0              No             0.720                  NaN\n",
            "5  IMG_006        6.0             Yes             0.875  2025-01-22 14:36:45\n"
          ]
        }
      ]
    },
    {
      "cell_type": "code",
      "source": [
        "import pandas as pd\n",
        "import numpy as np\n",
        "\n",
        "\n",
        "data = {\n",
        "    \"Image_ID\": [\"IMG_001\", \"IMG_002\", \"IMG_003\", \"IMG_004\", \"IMG_005\", \"IMG_006\"],\n",
        "    \"Person_ID\": [1, 2, 3, np.nan, 5, 6],\n",
        "    \"Helmet_Detected\": [\"Yes\", \"No\", np.nan, \"Yes\", \"No\", \"Yes\"],\n",
        "    \"Confidence_Score\": [0.98, 0.85, np.nan, 0.95, 0.72, np.nan],\n",
        "    \"Time_Stamp\": [\"2025-01-22 14:32:01\", \"2025-01-22 14:33:15\", np.nan, \"2025-01-22 14:34:10\", np.nan, \"2025-01-22 14:36:45\"]\n",
        "}\n",
        "\n",
        "df = pd.DataFrame(data)\n",
        "\n",
        "print(\"Original DataFrame:\")\n",
        "print(df)\n",
        "\n",
        "df_median = df.apply(lambda col: col.fillna(col.median()) if col.dtype in ['float64', 'int64'] else col)\n",
        "\n",
        "print(\"\\nDataFrame after replacing missing values with the median for numerical columns:\")\n",
        "print(df_median)\n",
        "\n",
        "\n",
        "df_mode = df.apply(lambda col: col.fillna(col.mode()[0]) if col.dtype in ['float64', 'int64'] else col)\n",
        "\n",
        "print(\"\\nDataFrame after replacing missing values with the mode for numerical columns:\")\n",
        "print(df_mode)\n"
      ],
      "metadata": {
        "colab": {
          "base_uri": "https://localhost:8080/"
        },
        "id": "K8V5_XOJaxJU",
        "outputId": "d36d1127-386e-470c-8e09-468af124738b"
      },
      "execution_count": null,
      "outputs": [
        {
          "output_type": "stream",
          "name": "stdout",
          "text": [
            "Original DataFrame:\n",
            "  Image_ID  Person_ID Helmet_Detected  Confidence_Score           Time_Stamp\n",
            "0  IMG_001        1.0             Yes              0.98  2025-01-22 14:32:01\n",
            "1  IMG_002        2.0              No              0.85  2025-01-22 14:33:15\n",
            "2  IMG_003        3.0             NaN               NaN                  NaN\n",
            "3  IMG_004        NaN             Yes              0.95  2025-01-22 14:34:10\n",
            "4  IMG_005        5.0              No              0.72                  NaN\n",
            "5  IMG_006        6.0             Yes               NaN  2025-01-22 14:36:45\n",
            "\n",
            "DataFrame after replacing missing values with the median for numerical columns:\n",
            "  Image_ID  Person_ID Helmet_Detected  Confidence_Score           Time_Stamp\n",
            "0  IMG_001        1.0             Yes              0.98  2025-01-22 14:32:01\n",
            "1  IMG_002        2.0              No              0.85  2025-01-22 14:33:15\n",
            "2  IMG_003        3.0             NaN              0.90                  NaN\n",
            "3  IMG_004        3.0             Yes              0.95  2025-01-22 14:34:10\n",
            "4  IMG_005        5.0              No              0.72                  NaN\n",
            "5  IMG_006        6.0             Yes              0.90  2025-01-22 14:36:45\n",
            "\n",
            "DataFrame after replacing missing values with the mode for numerical columns:\n",
            "  Image_ID  Person_ID Helmet_Detected  Confidence_Score           Time_Stamp\n",
            "0  IMG_001        1.0             Yes              0.98  2025-01-22 14:32:01\n",
            "1  IMG_002        2.0              No              0.85  2025-01-22 14:33:15\n",
            "2  IMG_003        3.0             NaN              0.72                  NaN\n",
            "3  IMG_004        1.0             Yes              0.95  2025-01-22 14:34:10\n",
            "4  IMG_005        5.0              No              0.72                  NaN\n",
            "5  IMG_006        6.0             Yes              0.72  2025-01-22 14:36:45\n"
          ]
        }
      ]
    },
    {
      "cell_type": "code",
      "source": [
        "import pandas as pd\n",
        "import numpy as np\n",
        "\n",
        "\n",
        "data = {\n",
        "    'Age': [25, None, 30, 35, None, 4.5],\n",
        "    'Height': [5.5, 6.1, 5.9, None, 5.7, 6.2],\n",
        "    'HelmetStatus': [1, None, 1, 0, 1, 1],\n",
        "    'Gender': ['M', 'F', 'M', 'None', 'F', 'M'],\n",
        "    'Experience': [2, 4, 6, 1, None, None]\n",
        "}\n",
        "\n",
        "\n",
        "df = pd.DataFrame(data)\n",
        "\n",
        "print(\"Original DataFrame with Missing Values:\")\n",
        "print(df)\n",
        "\n",
        "\n",
        "df_filled_mean = df.copy()\n",
        "df_filled_median = df.copy()\n",
        "df_filled_mode = df.copy()\n",
        "\n",
        "\n",
        "df_filled_mean['Age'] = df['Age'].fillna(df['Age'].mean()).astype(int)\n",
        "df_filled_mean['Experience'] = df['Experience'].fillna(df['Experience'].mean()).astype(int)\n",
        "\n",
        "\n",
        "df_filled_median['Age'] = df['Age'].fillna(df['Age'].median()).astype(int)\n",
        "df_filled_median['Experience'] = df['Experience'].fillna(df['Experience'].median()).astype(int)\n",
        "\n",
        "\n",
        "df_filled_mode['Age'] = df['Age'].fillna(df['Age'].mode()[0]).astype(int)\n",
        "df_filled_mode['Experience'] = df['Experience'].fillna(df['Experience'].mode()[0]).astype(int)\n",
        "\n",
        "\n",
        "print(\"\\nDataFrame after replacing missing values with Mean:\")\n",
        "print(df_filled_mean)\n",
        "\n",
        "print(\"\\nDataFrame after replacing missing values with Median:\")\n",
        "print(df_filled_median)\n",
        "\n",
        "print(\"\\nDataFrame after replacing missing values with Mode:\")\n",
        "print(df_filled_mode)\n"
      ],
      "metadata": {
        "colab": {
          "base_uri": "https://localhost:8080/"
        },
        "id": "4eXlYMMOcQ-h",
        "outputId": "d865e143-9c28-49a1-ad0f-85a341098891"
      },
      "execution_count": null,
      "outputs": [
        {
          "output_type": "stream",
          "name": "stdout",
          "text": [
            "Original DataFrame with Missing Values:\n",
            "    Age  Height  HelmetStatus Gender  Experience\n",
            "0  25.0     5.5           1.0      M         2.0\n",
            "1   NaN     6.1           NaN      F         4.0\n",
            "2  30.0     5.9           1.0      M         6.0\n",
            "3  35.0     NaN           0.0   None         1.0\n",
            "4   NaN     5.7           1.0      F         NaN\n",
            "5   4.5     6.2           1.0      M         NaN\n",
            "\n",
            "DataFrame after replacing missing values with Mean:\n",
            "   Age  Height  HelmetStatus Gender  Experience\n",
            "0   25     5.5           1.0      M           2\n",
            "1   23     6.1           NaN      F           4\n",
            "2   30     5.9           1.0      M           6\n",
            "3   35     NaN           0.0   None           1\n",
            "4   23     5.7           1.0      F           3\n",
            "5    4     6.2           1.0      M           3\n",
            "\n",
            "DataFrame after replacing missing values with Median:\n",
            "   Age  Height  HelmetStatus Gender  Experience\n",
            "0   25     5.5           1.0      M           2\n",
            "1   27     6.1           NaN      F           4\n",
            "2   30     5.9           1.0      M           6\n",
            "3   35     NaN           0.0   None           1\n",
            "4   27     5.7           1.0      F           3\n",
            "5    4     6.2           1.0      M           3\n",
            "\n",
            "DataFrame after replacing missing values with Mode:\n",
            "   Age  Height  HelmetStatus Gender  Experience\n",
            "0   25     5.5           1.0      M           2\n",
            "1    4     6.1           NaN      F           4\n",
            "2   30     5.9           1.0      M           6\n",
            "3   35     NaN           0.0   None           1\n",
            "4    4     5.7           1.0      F           1\n",
            "5    4     6.2           1.0      M           1\n"
          ]
        }
      ]
    },
    {
      "cell_type": "code",
      "source": [
        "import pandas as pd\n",
        "\n",
        "\n",
        "data = {\n",
        "    \"ID\": [1, 2, 3, 4, 5, 3, 2],\n",
        "    \"Name\": [\"Alice\", \"Bob\", \"Charlie\", \"David\", \"Eve\", \"Charlie\", \"Bob\"],\n",
        "    \"Age\": [25, 30, 35, 40, 28, 35, 30],\n",
        "    \"City\": [\"New York\", \"Los Angeles\", \"Chicago\", \"Houston\", \"Phoenix\", \"Chicago\", \"Los Angeles\"]\n",
        "}\n",
        "\n",
        "df = pd.DataFrame(data)\n",
        "\n",
        "print(\"DataFrame with Duplicate Rows:\")\n",
        "print(df)\n"
      ],
      "metadata": {
        "colab": {
          "base_uri": "https://localhost:8080/"
        },
        "id": "FkXLuzYLfSnJ",
        "outputId": "494bdda2-748d-46cb-9523-fbe0b30f1dab"
      },
      "execution_count": null,
      "outputs": [
        {
          "output_type": "stream",
          "name": "stdout",
          "text": [
            "DataFrame with Duplicate Rows:\n",
            "   ID     Name  Age         City\n",
            "0   1    Alice   25     New York\n",
            "1   2      Bob   30  Los Angeles\n",
            "2   3  Charlie   35      Chicago\n",
            "3   4    David   40      Houston\n",
            "4   5      Eve   28      Phoenix\n",
            "5   3  Charlie   35      Chicago\n",
            "6   2      Bob   30  Los Angeles\n"
          ]
        }
      ]
    },
    {
      "cell_type": "code",
      "source": [
        "import pandas as pd\n",
        "\n",
        "\n",
        "data = {\n",
        "    \"ID\": [1, 2, 3, 4, 5, 3, 2],\n",
        "    \"Name\": [\"Alice\", \"Bob\", \"Charlie\", \"David\", \"Eve\", \"Charlie\", \"Bob\"],\n",
        "    \"Age\": [25, 30, 35, 40, 28, 35, 30],\n",
        "    \"City\": [\"New York\", \"Los Angeles\", \"Chicago\", \"Houston\", \"Phoenix\", \"Chicago\", \"Los Angeles\"]\n",
        "}\n",
        "\n",
        "df = pd.DataFrame(data)\n",
        "\n",
        "\n",
        "duplicates = df[df.duplicated()]\n",
        "\n",
        "print(\"Duplicate Rows:\")\n",
        "print(duplicates)\n"
      ],
      "metadata": {
        "colab": {
          "base_uri": "https://localhost:8080/"
        },
        "id": "FvLPmxU5fmjK",
        "outputId": "c4957376-0e30-4b1e-d4c4-8e51f1e8031e"
      },
      "execution_count": null,
      "outputs": [
        {
          "output_type": "stream",
          "name": "stdout",
          "text": [
            "Duplicate Rows:\n",
            "   ID     Name  Age         City\n",
            "5   3  Charlie   35      Chicago\n",
            "6   2      Bob   30  Los Angeles\n"
          ]
        }
      ]
    },
    {
      "cell_type": "markdown",
      "source": [],
      "metadata": {
        "id": "NyQoLiqjHLZi"
      }
    },
    {
      "cell_type": "code",
      "source": [
        " import numpy as np\n",
        "\n",
        "data = [10, 12, 14, 13, 100, 47, 5, 15, 16, 14, 13, 11]\n",
        "Q1 = np.percentile(data, 25)\n",
        "Q3 = np.percentile(data, 75)\n",
        "IQR = Q3 - Q1\n",
        "lower_bound = Q1 - 1.5 * IQR\n",
        "upper_bound = Q3 + 1.5 * IQR\n",
        "outliers = [x for x in data if x < lower_bound or x > upper_bound]\n",
        "print(\"Outliers:\", outliers)\n",
        "\n"
      ],
      "metadata": {
        "id": "UTpl6-ElgvGK",
        "colab": {
          "base_uri": "https://localhost:8080/"
        },
        "outputId": "a12a7691-cde2-41d3-fc1b-90a0a16f8f08"
      },
      "execution_count": null,
      "outputs": [
        {
          "output_type": "stream",
          "name": "stdout",
          "text": [
            "Outliers: [100, 47, 5]\n"
          ]
        }
      ]
    },
    {
      "cell_type": "code",
      "source": [
        "import pandas as pd\n",
        "import numpy as np\n",
        "import matplotlib.pyplot as plt\n",
        "import seaborn as sns\n",
        "\n",
        "np.random.seed(10)\n",
        "data = pd.DataFrame({\n",
        "    'value': np.concatenate([np.random.normal(0, 1, 100), np.random.normal(10, 1, 10)])\n",
        "})\n",
        "\n",
        "Q1 = data['value'].quantile(0.25)\n",
        "Q3 = data['value'].quantile(0.75)\n",
        "IQR = Q3 - Q1\n",
        "lower_bound = Q1 - 1.5 * IQR\n",
        "upper_bound = Q3 + 1.5 * IQR\n",
        "outliers = data[(data['value'] < lower_bound) | (data['value'] > upper_bound)]\n",
        "\n",
        "print(\"Lower Bound:\", lower_bound)\n",
        "print(\"Upper Bound:\", upper_bound)\n",
        "print(\"Outliers:\")\n",
        "print(outliers)\n",
        "\n",
        "plt.figure(figsize=(8, 6))\n",
        "sns.boxplot(data['value'])\n",
        "plt.title('Boxplot of Values with Outliers')\n",
        "plt.show()\n"
      ],
      "metadata": {
        "colab": {
          "base_uri": "https://localhost:8080/",
          "height": 736
        },
        "id": "Si1QcIDiI-dA",
        "outputId": "35416499-ce4d-443b-9ada-11eaf98e9d9e"
      },
      "execution_count": null,
      "outputs": [
        {
          "output_type": "stream",
          "name": "stdout",
          "text": [
            "Lower Bound: -2.3631061943723766\n",
            "Upper Bound: 2.972058326214519\n",
            "Outliers:\n",
            "         value\n",
            "100  10.117476\n",
            "101   8.092543\n",
            "102   9.077091\n",
            "103  10.469751\n",
            "104   9.855633\n",
            "105   9.599862\n",
            "106   9.704016\n",
            "107  10.848209\n",
            "108  10.706830\n",
            "109   9.212731\n"
          ]
        },
        {
          "output_type": "display_data",
          "data": {
            "text/plain": [
              "<Figure size 800x600 with 1 Axes>"
            ],
            "image/png": "[encoded data removed]"
          },
          "metadata": {}
        }
      ]
    }
  ]
}