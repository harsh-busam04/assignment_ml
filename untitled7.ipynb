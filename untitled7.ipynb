{
  "nbformat": 4,
  "nbformat_minor": 0,
  "metadata": {
    "colab": {
      "provenance": [],
      "authorship_tag": "ABX9TyPZ1hy5vTflvCZf+sfZ0Nsz",
      "include_colab_link": true
    },
    "kernelspec": {
      "name": "python3",
      "display_name": "Python 3"
    },
    "language_info": {
      "name": "python"
    }
  },
  "cells": [
    {
      "cell_type": "markdown",
      "metadata": {
        "id": "view-in-github",
        "colab_type": "text"
      },
      "source": [
        "<a href=\"https://colab.research.google.com/github/harsh-busam04/assignment_ml/blob/main/untitled7.ipynb\" target=\"_parent\"><img src=\"https://colab.research.google.com/assets/colab-badge.svg\" alt=\"Open In Colab\"/></a>"
      ]
    },
    {
      "cell_type": "code",
      "execution_count": null,
      "metadata": {
        "colab": {
          "base_uri": "https://localhost:8080/"
        },
        "id": "elruacdbVrqu",
        "outputId": "1dd00eb3-9e23-4075-989d-414882a06502"
      },
      "outputs": [
        {
          "output_type": "stream",
          "name": "stdout",
          "text": [
            "DataFrame with duplicates:\n",
            "   ID     Name  Age         City\n",
            "0   1    Alice   25     New York\n",
            "1   2      Bob   30  Los Angeles\n",
            "2   3  Charlie   35      Chicago\n",
            "3   2      Bob   30  Los Angeles\n",
            "4   4    David   40      Houston\n",
            "5   3  Charlie   35      Chicago\n"
          ]
        }
      ],
      "source": [
        "import pandas as pd\n",
        "\n",
        "data = {\n",
        "    \"ID\": [1, 2, 3, 2, 4, 3],\n",
        "    \"Name\": [\"Alice\", \"Bob\", \"Charlie\", \"Bob\", \"David\", \"Charlie\"],\n",
        "    \"Age\": [25, 30, 35, 30, 40, 35],\n",
        "    \"City\": [\"New York\", \"Los Angeles\", \"Chicago\", \"Los Angeles\", \"Houston\", \"Chicago\"]\n",
        "}\n",
        "\n",
        "df = pd.DataFrame(data)\n",
        "\n",
        "\n",
        "print(\"DataFrame with duplicates:\")\n",
        "print(df)\n"
      ]
    },
    {
      "cell_type": "code",
      "source": [],
      "metadata": {
        "id": "FCT272qkJ3DM"
      },
      "execution_count": null,
      "outputs": []
    },
    {
      "cell_type": "code",
      "source": [
        "import pandas as pd\n",
        "import numpy as np\n",
        "\n",
        "\n",
        "data = {\n",
        "    \"ID\": [1, 2, 3, np.nan, 5, 6, 6],\n",
        "    \"Name\": [\"Alice\", \"Bob\", \"Charlie\", \"David\", \"Eve\", \"Eve\", np.nan],\n",
        "    \"Age\": [25, 30, np.nan, 40, np.nan, 35, 35],\n",
        "    \"City\": [\"New York\", \"Los Angeles\", \"Chicago\", \"Houston\", None, \"Houston\", \"Houston\"]\n",
        "}\n",
        "\n",
        "df = pd.DataFrame(data)\n",
        "\n",
        "print(\"Original DataFrame:\")\n",
        "print(df)\n",
        "\n",
        "df = df.drop_duplicates()\n",
        "\n",
        "\n",
        "df['Age'] = df['Age'].fillna(df['Age'].mean())\n",
        "\n",
        "\n",
        "df['Name'] = df['Name'].fillna(\"Unknown\")\n",
        "df['City'] = df['City'].fillna(\"Unknown\")\n",
        "\n",
        "\n",
        "df['City'] = df['City'].str.title()\n",
        "\n",
        "\n",
        "df['ID'] = df['ID'].fillna(-1).astype(int)\n",
        "\n",
        "print(\"\\nCleaned DataFrame:\")\n",
        "print(df)\n"
      ],
      "metadata": {
        "colab": {
          "base_uri": "https://localhost:8080/"
        },
        "id": "n0I1NtqAWzoK",
        "outputId": "de3a8791-6be0-48c6-8b63-d8d115c9fb38"
      },
      "execution_count": null,
      "outputs": [
        {
          "output_type": "stream",
          "name": "stdout",
          "text": [
            "Original DataFrame:\n",
            "    ID     Name   Age         City\n",
            "0  1.0    Alice  25.0     New York\n",
            "1  2.0      Bob  30.0  Los Angeles\n",
            "2  3.0  Charlie   NaN      Chicago\n",
            "3  NaN    David  40.0      Houston\n",
            "4  5.0      Eve   NaN         None\n",
            "5  6.0      Eve  35.0      Houston\n",
            "6  6.0      NaN  35.0      Houston\n",
            "\n",
            "Cleaned DataFrame:\n",
            "   ID     Name   Age         City\n",
            "0   1    Alice  25.0     New York\n",
            "1   2      Bob  30.0  Los Angeles\n",
            "2   3  Charlie  33.0      Chicago\n",
            "3  -1    David  40.0      Houston\n",
            "4   5      Eve  33.0      Unknown\n",
            "5   6      Eve  35.0      Houston\n",
            "6   6  Unknown  35.0      Houston\n"
          ]
        }
      ]
    },
    {
      "cell_type": "code",
      "source": [
        "import statistics\n",
        "\n",
        "data = [10, 12, 23, 23, 16, 23, 21, 16]\n",
        "\n",
        "# Sample variance\n",
        "sample_variance = statistics.variance(data)\n",
        "print(\"Sample Variance:\", sample_variance)\n",
        "\n",
        "# Population variance\n",
        "population_variance = statistics.pvariance(data)\n",
        "print(\"Population Variance:\", population_variance)\n"
      ],
      "metadata": {
        "id": "WOHW2JhGNx1X",
        "outputId": "f322c48b-3540-42ae-bd12-498680f274e3",
        "colab": {
          "base_uri": "https://localhost:8080/"
        }
      },
      "execution_count": 1,
      "outputs": [
        {
          "output_type": "stream",
          "name": "stdout",
          "text": [
            "Sample Variance: 27.428571428571427\n",
            "Population Variance: 24\n"
          ]
        }
      ]
    },
    {
      "cell_type": "code",
      "source": [
        "import statistics\n",
        "\n",
        "\n",
        "class_a_scores = [85, 87, 89, 90, 86, 88, 92]\n",
        "class_b_scores = [75, 95, 60, 85, 100, 70, 90]\n",
        "\n",
        "variance_class_a = statistics.variance(class_a_scores)\n",
        "variance_class_b = statistics.variance(class_b_scores)\n",
        "\n",
        "print(\"Class A - Average Score:\", sum(class_a_scores) / len(class_a_scores))\n",
        "print(\"Class A - Variance:\", variance_class_a)\n",
        "\n",
        "print(\"Class B - Average Score:\", sum(class_b_scores) / len(class_b_scores))\n",
        "print(\"Class B - Variance:\", variance_class_b)\n",
        "\n",
        "\n",
        "if variance_class_a < variance_class_b:\n",
        "    print(\"Class A has more consistent scores than Class B.\")\n",
        "else:\n",
        "    print(\"Class B has more consistent scores than Class A.\")\n"
      ],
      "metadata": {
        "id": "_b0m4I4AN9-n",
        "outputId": "31010a54-dc3d-442a-e509-50b4685e410a",
        "colab": {
          "base_uri": "https://localhost:8080/"
        }
      },
      "execution_count": 2,
      "outputs": [
        {
          "output_type": "stream",
          "name": "stdout",
          "text": [
            "Class A - Average Score: 88.14285714285714\n",
            "Class A - Variance: 5.809523809523809\n",
            "Class B - Average Score: 82.14285714285714\n",
            "Class B - Variance: 207.14285714285714\n",
            "Class A has more consistent scores than Class B.\n"
          ]
        }
      ]
    },
    {
      "cell_type": "code",
      "source": [
        "import matplotlib.pyplot as plt\n",
        "\n",
        "\n",
        "temperature = [25, 28, 32, 35, 40, 42, 45, 30, 33, 36, 37]\n",
        "ice_cream_sales = [200, 250, 300, 350, 400, 420, 430, 450, 310, 360, 370]\n",
        "\n",
        "plt.figure(figsize=(8, 6))\n",
        "plt.scatter(temperature, ice_cream_sales, color=\"blue\", edgecolor=\"black\")\n",
        "\n",
        "\n",
        "plt.title(\"Relationship Between Temperature and Ice Cream Sales\", fontsize=16)\n",
        "plt.xlabel(\"Temperature (°C)\", fontsize=14)\n",
        "plt.ylabel(\"Ice Cream Sales\", fontsize=14)\n",
        "\n",
        "\n",
        "plt.grid(alpha=0.3)\n",
        "\n",
        "\n",
        "plt.show()\n"
      ],
      "metadata": {
        "id": "Eoof7ofqQLb2",
        "outputId": "5c05bae7-90a8-450f-aee8-4b351a4d2254",
        "colab": {
          "base_uri": "https://localhost:8080/",
          "height": 571
        }
      },
      "execution_count": 3,
      "outputs": [
        {
          "output_type": "display_data",
          "data": {
            "text/plain": [
              "<Figure size 800x600 with 1 Axes>"
            ],
            "image/png": "[encoded data removed]"
          },
          "metadata": {}
        }
      ]
    },
    {
      "cell_type": "code",
      "source": [
        "from google.colab import files\n",
        "import pandas as pd\n",
        "\n",
        "\n",
        "uploaded = files.upload()\n",
        "\n",
        "\n",
        "df = pd.read_csv(\"/content/loans.csv\")\n",
        "\n",
        "\n",
        "print(df.head())\n"
      ],
      "metadata": {
        "id": "kM3jYPXPTqsb",
        "outputId": "23e62dbd-658e-43bc-94fd-d61fee640aab",
        "colab": {
          "base_uri": "https://localhost:8080/",
          "height": 320
        }
      },
      "execution_count": 7,
      "outputs": [
        {
          "output_type": "display_data",
          "data": {
            "text/plain": [
              "<IPython.core.display.HTML object>"
            ],
            "text/html": [
              "\n",
              "     <input type=\"file\" id=\"files-cb1992ee-765f-4995-a049-d06c9b467ae7\" name=\"files[]\" multiple disabled\n",
              "        style=\"border:none\" />\n",
              "     <output id=\"result-cb1992ee-765f-4995-a049-d06c9b467ae7\">\n",
              "      Upload widget is only available when the cell has been executed in the\n",
              "      current browser session. Please rerun this cell to enable.\n",
              "      </output>\n",
              "      <script>// Copyright 2017 Google LLC\n",
              "//\n",
              "// Licensed under the Apache License, Version 2.0 (the \"License\");\n",
              "// you may not use this file except in compliance with the License.\n",
              "// You may obtain a copy of the License at\n",
              "//\n",
              "//      http://www.apache.org/licenses/LICENSE-2.0\n",
              "//\n",
              "// Unless required by applicable law or agreed to in writing, software\n",
              "// distributed under the License is distributed on an \"AS IS\" BASIS,\n",
              "// WITHOUT WARRANTIES OR CONDITIONS OF ANY KIND, either express or implied.\n",
              "// See the License for the specific language governing permissions and\n",
              "// limitations under the License.\n",
              "\n",
              "/**\n",
              " * @fileoverview Helpers for google.colab Python module.\n",
              " */\n",
              "(function(scope) {\n",
              "function span(text, styleAttributes = {}) {\n",
              "  const element = document.createElement('span');\n",
              "  element.textContent = text;\n",
              "  for (const key of Object.keys(styleAttributes)) {\n",
              "    element.style[key] = styleAttributes[key];\n",
              "  }\n",
              "  return element;\n",
              "}\n",
              "\n",
              "// Max number of bytes which will be uploaded at a time.\n",
              "const MAX_PAYLOAD_SIZE = 100 * 1024;\n",
              "\n",
              "function _uploadFiles(inputId, outputId) {\n",
              "  const steps = uploadFilesStep(inputId, outputId);\n",
              "  const outputElement = document.getElementById(outputId);\n",
              "  // Cache steps on the outputElement to make it available for the next call\n",
              "  // to uploadFilesContinue from Python.\n",
              "  outputElement.steps = steps;\n",
              "\n",
              "  return _uploadFilesContinue(outputId);\n",
              "}\n",
              "\n",
              "// This is roughly an async generator (not supported in the browser yet),\n",
              "// where there are multiple asynchronous steps and the Python side is going\n",
              "// to poll for completion of each step.\n",
              "// This uses a Promise to block the python side on completion of each step,\n",
              "// then passes the result of the previous step as the input to the next step.\n",
              "function _uploadFilesContinue(outputId) {\n",
              "  const outputElement = document.getElementById(outputId);\n",
              "  const steps = outputElement.steps;\n",
              "\n",
              "  const next = steps.next(outputElement.lastPromiseValue);\n",
              "  return Promise.resolve(next.value.promise).then((value) => {\n",
              "    // Cache the last promise value to make it available to the next\n",
              "    // step of the generator.\n",
              "    outputElement.lastPromiseValue = value;\n",
              "    return next.value.response;\n",
              "  });\n",
              "}\n",
              "\n",
              "/**\n",
              " * Generator function which is called between each async step of the upload\n",
              " * process.\n",
              " * @param {string} inputId Element ID of the input file picker element.\n",
              " * @param {string} outputId Element ID of the output display.\n",
              " * @return {!Iterable<!Object>} Iterable of next steps.\n",
              " */\n",
              "function* uploadFilesStep(inputId, outputId) {\n",
              "  const inputElement = document.getElementById(inputId);\n",
              "  inputElement.disabled = false;\n",
              "\n",
              "  const outputElement = document.getElementById(outputId);\n",
              "  outputElement.innerHTML = '';\n",
              "\n",
              "  const pickedPromise = new Promise((resolve) => {\n",
              "    inputElement.addEventListener('change', (e) => {\n",
              "      resolve(e.target.files);\n",
              "    });\n",
              "  });\n",
              "\n",
              "  const cancel = document.createElement('button');\n",
              "  inputElement.parentElement.appendChild(cancel);\n",
              "  cancel.textContent = 'Cancel upload';\n",
              "  const cancelPromise = new Promise((resolve) => {\n",
              "    cancel.onclick = () => {\n",
              "      resolve(null);\n",
              "    };\n",
              "  });\n",
              "\n",
              "  // Wait for the user to pick the files.\n",
              "  const files = yield {\n",
              "    promise: Promise.race([pickedPromise, cancelPromise]),\n",
              "    response: {\n",
              "      action: 'starting',\n",
              "    }\n",
              "  };\n",
              "\n",
              "  cancel.remove();\n",
              "\n",
              "  // Disable the input element since further picks are not allowed.\n",
              "  inputElement.disabled = true;\n",
              "\n",
              "  if (!files) {\n",
              "    return {\n",
              "      response: {\n",
              "        action: 'complete',\n",
              "      }\n",
              "    };\n",
              "  }\n",
              "\n",
              "  for (const file of files) {\n",
              "    const li = document.createElement('li');\n",
              "    li.append(span(file.name, {fontWeight: 'bold'}));\n",
              "    li.append(span(\n",
              "        `(${file.type || 'n/a'}) - ${file.size} bytes, ` +\n",
              "        `last modified: ${\n",
              "            file.lastModifiedDate ? file.lastModifiedDate.toLocaleDateString() :\n",
              "                                    'n/a'} - `));\n",
              "    const percent = span('0% done');\n",
              "    li.appendChild(percent);\n",
              "\n",
              "    outputElement.appendChild(li);\n",
              "\n",
              "    const fileDataPromise = new Promise((resolve) => {\n",
              "      const reader = new FileReader();\n",
              "      reader.onload = (e) => {\n",
              "        resolve(e.target.result);\n",
              "      };\n",
              "      reader.readAsArrayBuffer(file);\n",
              "    });\n",
              "    // Wait for the data to be ready.\n",
              "    let fileData = yield {\n",
              "      promise: fileDataPromise,\n",
              "      response: {\n",
              "        action: 'continue',\n",
              "      }\n",
              "    };\n",
              "\n",
              "    // Use a chunked sending to avoid message size limits. See b/62115660.\n",
              "    let position = 0;\n",
              "    do {\n",
              "      const length = Math.min(fileData.byteLength - position, MAX_PAYLOAD_SIZE);\n",
              "      const chunk = new Uint8Array(fileData, position, length);\n",
              "      position += length;\n",
              "\n",
              "      const base64 = btoa(String.fromCharCode.apply(null, chunk));\n",
              "      yield {\n",
              "        response: {\n",
              "          action: 'append',\n",
              "          file: file.name,\n",
              "          data: base64,\n",
              "        },\n",
              "      };\n",
              "\n",
              "      let percentDone = fileData.byteLength === 0 ?\n",
              "          100 :\n",
              "          Math.round((position / fileData.byteLength) * 100);\n",
              "      percent.textContent = `${percentDone}% done`;\n",
              "\n",
              "    } while (position < fileData.byteLength);\n",
              "  }\n",
              "\n",
              "  // All done.\n",
              "  yield {\n",
              "    response: {\n",
              "      action: 'complete',\n",
              "    }\n",
              "  };\n",
              "}\n",
              "\n",
              "scope.google = scope.google || {};\n",
              "scope.google.colab = scope.google.colab || {};\n",
              "scope.google.colab._files = {\n",
              "  _uploadFiles,\n",
              "  _uploadFilesContinue,\n",
              "};\n",
              "})(self);\n",
              "</script> "
            ]
          },
          "metadata": {}
        },
        {
          "output_type": "stream",
          "name": "stdout",
          "text": [
            "Saving loans.csv to loans (2).csv\n",
            "   client_id loan_type  loan_amount  repaid  loan_id  loan_start    loan_end  \\\n",
            "0      46109      home        13672       0    10243  2002-04-16  2003-12-20   \n",
            "1      46109    credit         9794       0    10984  2003-10-21  2005-07-17   \n",
            "2      46109      home        12734       1    10990  2006-02-01  2007-07-05   \n",
            "3      46109      cash        12518       1    10596  2010-12-08  2013-05-05   \n",
            "4      46109    credit        14049       1    11415  2010-07-07  2012-05-21   \n",
            "\n",
            "   rate  \n",
            "0  2.15  \n",
            "1  1.25  \n",
            "2  0.68  \n",
            "3  1.24  \n",
            "4  3.13  \n"
          ]
        },
        {
          "output_type": "display_data",
          "data": {
            "text/plain": [
              "<IPython.core.display.HTML object>"
            ],
            "text/html": [
              "\n",
              "     <input type=\"file\" id=\"files-dd2a8fb6-072f-4a6e-bffd-1445aed33b02\" name=\"files[]\" multiple disabled\n",
              "        style=\"border:none\" />\n",
              "     <output id=\"result-dd2a8fb6-072f-4a6e-bffd-1445aed33b02\">\n",
              "      Upload widget is only available when the cell has been executed in the\n",
              "      current browser session. Please rerun this cell to enable.\n",
              "      </output>\n",
              "      <script>// Copyright 2017 Google LLC\n",
              "//\n",
              "// Licensed under the Apache License, Version 2.0 (the \"License\");\n",
              "// you may not use this file except in compliance with the License.\n",
              "// You may obtain a copy of the License at\n",
              "//\n",
              "//      http://www.apache.org/licenses/LICENSE-2.0\n",
              "//\n",
              "// Unless required by applicable law or agreed to in writing, software\n",
              "// distributed under the License is distributed on an \"AS IS\" BASIS,\n",
              "// WITHOUT WARRANTIES OR CONDITIONS OF ANY KIND, either express or implied.\n",
              "// See the License for the specific language governing permissions and\n",
              "// limitations under the License.\n",
              "\n",
              "/**\n",
              " * @fileoverview Helpers for google.colab Python module.\n",
              " */\n",
              "(function(scope) {\n",
              "function span(text, styleAttributes = {}) {\n",
              "  const element = document.createElement('span');\n",
              "  element.textContent = text;\n",
              "  for (const key of Object.keys(styleAttributes)) {\n",
              "    element.style[key] = styleAttributes[key];\n",
              "  }\n",
              "  return element;\n",
              "}\n",
              "\n",
              "// Max number of bytes which will be uploaded at a time.\n",
              "const MAX_PAYLOAD_SIZE = 100 * 1024;\n",
              "\n",
              "function _uploadFiles(inputId, outputId) {\n",
              "  const steps = uploadFilesStep(inputId, outputId);\n",
              "  const outputElement = document.getElementById(outputId);\n",
              "  // Cache steps on the outputElement to make it available for the next call\n",
              "  // to uploadFilesContinue from Python.\n",
              "  outputElement.steps = steps;\n",
              "\n",
              "  return _uploadFilesContinue(outputId);\n",
              "}\n",
              "\n",
              "// This is roughly an async generator (not supported in the browser yet),\n",
              "// where there are multiple asynchronous steps and the Python side is going\n",
              "// to poll for completion of each step.\n",
              "// This uses a Promise to block the python side on completion of each step,\n",
              "// then passes the result of the previous step as the input to the next step.\n",
              "function _uploadFilesContinue(outputId) {\n",
              "  const outputElement = document.getElementById(outputId);\n",
              "  const steps = outputElement.steps;\n",
              "\n",
              "  const next = steps.next(outputElement.lastPromiseValue);\n",
              "  return Promise.resolve(next.value.promise).then((value) => {\n",
              "    // Cache the last promise value to make it available to the next\n",
              "    // step of the generator.\n",
              "    outputElement.lastPromiseValue = value;\n",
              "    return next.value.response;\n",
              "  });\n",
              "}\n",
              "\n",
              "/**\n",
              " * Generator function which is called between each async step of the upload\n",
              " * process.\n",
              " * @param {string} inputId Element ID of the input file picker element.\n",
              " * @param {string} outputId Element ID of the output display.\n",
              " * @return {!Iterable<!Object>} Iterable of next steps.\n",
              " */\n",
              "function* uploadFilesStep(inputId, outputId) {\n",
              "  const inputElement = document.getElementById(inputId);\n",
              "  inputElement.disabled = false;\n",
              "\n",
              "  const outputElement = document.getElementById(outputId);\n",
              "  outputElement.innerHTML = '';\n",
              "\n",
              "  const pickedPromise = new Promise((resolve) => {\n",
              "    inputElement.addEventListener('change', (e) => {\n",
              "      resolve(e.target.files);\n",
              "    });\n",
              "  });\n",
              "\n",
              "  const cancel = document.createElement('button');\n",
              "  inputElement.parentElement.appendChild(cancel);\n",
              "  cancel.textContent = 'Cancel upload';\n",
              "  const cancelPromise = new Promise((resolve) => {\n",
              "    cancel.onclick = () => {\n",
              "      resolve(null);\n",
              "    };\n",
              "  });\n",
              "\n",
              "  // Wait for the user to pick the files.\n",
              "  const files = yield {\n",
              "    promise: Promise.race([pickedPromise, cancelPromise]),\n",
              "    response: {\n",
              "      action: 'starting',\n",
              "    }\n",
              "  };\n",
              "\n",
              "  cancel.remove();\n",
              "\n",
              "  // Disable the input element since further picks are not allowed.\n",
              "  inputElement.disabled = true;\n",
              "\n",
              "  if (!files) {\n",
              "    return {\n",
              "      response: {\n",
              "        action: 'complete',\n",
              "      }\n",
              "    };\n",
              "  }\n",
              "\n",
              "  for (const file of files) {\n",
              "    const li = document.createElement('li');\n",
              "    li.append(span(file.name, {fontWeight: 'bold'}));\n",
              "    li.append(span(\n",
              "        `(${file.type || 'n/a'}) - ${file.size} bytes, ` +\n",
              "        `last modified: ${\n",
              "            file.lastModifiedDate ? file.lastModifiedDate.toLocaleDateString() :\n",
              "                                    'n/a'} - `));\n",
              "    const percent = span('0% done');\n",
              "    li.appendChild(percent);\n",
              "\n",
              "    outputElement.appendChild(li);\n",
              "\n",
              "    const fileDataPromise = new Promise((resolve) => {\n",
              "      const reader = new FileReader();\n",
              "      reader.onload = (e) => {\n",
              "        resolve(e.target.result);\n",
              "      };\n",
              "      reader.readAsArrayBuffer(file);\n",
              "    });\n",
              "    // Wait for the data to be ready.\n",
              "    let fileData = yield {\n",
              "      promise: fileDataPromise,\n",
              "      response: {\n",
              "        action: 'continue',\n",
              "      }\n",
              "    };\n",
              "\n",
              "    // Use a chunked sending to avoid message size limits. See b/62115660.\n",
              "    let position = 0;\n",
              "    do {\n",
              "      const length = Math.min(fileData.byteLength - position, MAX_PAYLOAD_SIZE);\n",
              "      const chunk = new Uint8Array(fileData, position, length);\n",
              "      position += length;\n",
              "\n",
              "      const base64 = btoa(String.fromCharCode.apply(null, chunk));\n",
              "      yield {\n",
              "        response: {\n",
              "          action: 'append',\n",
              "          file: file.name,\n",
              "          data: base64,\n",
              "        },\n",
              "      };\n",
              "\n",
              "      let percentDone = fileData.byteLength === 0 ?\n",
              "          100 :\n",
              "          Math.round((position / fileData.byteLength) * 100);\n",
              "      percent.textContent = `${percentDone}% done`;\n",
              "\n",
              "    } while (position < fileData.byteLength);\n",
              "  }\n",
              "\n",
              "  // All done.\n",
              "  yield {\n",
              "    response: {\n",
              "      action: 'complete',\n",
              "    }\n",
              "  };\n",
              "}\n",
              "\n",
              "scope.google = scope.google || {};\n",
              "scope.google.colab = scope.google.colab || {};\n",
              "scope.google.colab._files = {\n",
              "  _uploadFiles,\n",
              "  _uploadFilesContinue,\n",
              "};\n",
              "})(self);\n",
              "</script> "
            ]
          },
          "metadata": {}
        }
      ]
    },
    {
      "cell_type": "code",
      "source": [
        "from google.colab import files\n",
        "import pandas as pd\n",
        "import matplotlib.pyplot as plt\n",
        "\n",
        "\n",
        "uploaded = files.upload()\n",
        "\n",
        "\n",
        "df = pd.read_csv(\"/content/loans.csv\")\n",
        "\n",
        "\n",
        "print(df.head())\n",
        "\n",
        "if 'LoanAmount' in df.columns:\n",
        "    plt.figure(figsize=(8, 6))\n",
        "    plt.hist(df['LoanAmount'], bins=20, color='skyblue', edgecolor='black')\n",
        "    plt.title('Distribution of Loan Amounts', fontsize=16)\n",
        "    plt.xlabel('Loan Amount', fontsize=14)\n",
        "    plt.ylabel('Frequency', fontsize=14)\n",
        "    plt.grid(alpha=0.3)\n",
        "    plt.show()\n",
        "\n",
        "\n",
        "if 'ApplicantIncome' in df.columns and 'LoanAmount' in df.columns:\n",
        "    plt.figure(figsize=(8, 6))\n",
        "    plt.scatter(df['ApplicantIncome'], df['LoanAmount'], color='orange', edgecolor='black', alpha=0.7)\n",
        "    plt.title('Loan Amount vs Applicant Income', fontsize=16)\n",
        "    plt.xlabel('Applicant Income', fontsize=14)\n",
        "    plt.ylabel('Loan Amount', fontsize=14)\n",
        "    plt.grid(alpha=0.3)\n",
        "    plt.show()\n"
      ],
      "metadata": {
        "id": "Ws19Fr2PTmp_"
      },
      "execution_count": null,
      "outputs": []
    },
    {
      "cell_type": "code",
      "source": [
        "from google.colab import files\n",
        "import pandas as pd\n",
        "import matplotlib.pyplot as plt\n",
        "\n",
        "\n",
        "uploaded = files.upload()\n",
        "\n",
        "\n",
        "df = pd.read_csv(\"/content/loans.csv\")\n",
        "\n",
        "print(df.head())\n",
        "\n",
        "\n",
        "if 'LoanAmount' in df.columns:\n",
        "    plt.figure(figsize=(8, 6))\n",
        "    plt.hist(df['LoanAmount'], bins=20, color='skyblue', edgecolor='black')\n",
        "    plt.title('Distribution of Loan Amounts', fontsize=16)\n",
        "    plt.xlabel('Loan Amount', fontsize=14)\n",
        "    plt.ylabel('Frequency', fontsize=14)\n",
        "    plt.grid(alpha=0.3)\n",
        "    plt.show()\n",
        "\n",
        "\n",
        "if 'ApplicantIncome' in df.columns and 'LoanAmount' in df.columns:\n",
        "    plt.figure(figsize=(8, 6))\n",
        "    plt.scatter(df['ApplicantIncome'], df['LoanAmount'], color='orange', edgecolor='black', alpha=0.7)\n",
        "    plt.title('Loan Amount vs Applicant Income', fontsize=16)\n",
        "    plt.xlabel('Applicant Income', fontsize=14)\n",
        "    plt.ylabel('Loan Amount', fontsize=14)\n",
        "    plt.grid(alpha=0.3)\n",
        "    plt.show()\n"
      ],
      "metadata": {
        "id": "zVPckZ5KRaB4"
      },
      "execution_count": null,
      "outputs": []
    },
    {
      "cell_type": "code",
      "source": [
        "import pandas as pd\n",
        "import numpy as np\n",
        "\n",
        "\n",
        "data = {\n",
        "    \"Image_ID\": [\"IMG_001\", \"IMG_002\", \"IMG_003\", \"IMG_004\", \"IMG_005\", \"IMG_006\"],\n",
        "    \"Person_ID\": [1, 2, 3, np.nan, 5, 6],\n",
        "    \"Helmet_Detected\": [\"Yes\", \"No\", np.nan, \"Yes\", \"No\", \"Yes\"],\n",
        "    \"Confidence_Score\": [0.98, 0.85, np.nan, 0.95, 0.72, np.nan],\n",
        "    \"Time_Stamp\": [\"2025-01-22 14:32:01\", \"2025-01-22 14:33:15\", np.nan, \"2025-01-22 14:34:10\", np.nan, \"2025-01-22 14:36:45\"]\n",
        "}\n",
        "\n",
        "df = pd.DataFrame(data)\n",
        "\n",
        "print(\"Sample DataFrame with Missing Values:\")\n",
        "print(df)\n"
      ],
      "metadata": {
        "colab": {
          "base_uri": "https://localhost:8080/"
        },
        "id": "SWjS2eQ8ZAZD",
        "outputId": "aa405f70-eca9-47c0-f5b0-36c243f435c4"
      },
      "execution_count": null,
      "outputs": [
        {
          "output_type": "stream",
          "name": "stdout",
          "text": [
            "Sample DataFrame with Missing Values:\n",
            "  Image_ID  Person_ID Helmet_Detected  Confidence_Score           Time_Stamp\n",
            "0  IMG_001        1.0             Yes              0.98  2025-01-22 14:32:01\n",
            "1  IMG_002        2.0              No              0.85  2025-01-22 14:33:15\n",
            "2  IMG_003        3.0             NaN               NaN                  NaN\n",
            "3  IMG_004        NaN             Yes              0.95  2025-01-22 14:34:10\n",
            "4  IMG_005        5.0              No              0.72                  NaN\n",
            "5  IMG_006        6.0             Yes               NaN  2025-01-22 14:36:45\n"
          ]
        }
      ]
    },
    {
      "cell_type": "code",
      "source": [
        "import pandas as pd\n",
        "import numpy as np\n",
        "\n",
        "\n",
        "data = {\n",
        "    \"Image_ID\": [\"IMG_001\", \"IMG_002\", \"IMG_003\", \"IMG_004\", \"IMG_005\", \"IMG_006\"],\n",
        "    \"Person_ID\": [1, 2, 3, np.nan, 5, 6],\n",
        "    \"Helmet_Detected\": [\"Yes\", \"No\", np.nan, \"Yes\", \"No\", \"Yes\"],\n",
        "    \"Confidence_Score\": [0.98, 0.85, np.nan, 0.95, 0.72, np.nan],\n",
        "    \"Time_Stamp\": [\"2025-01-22 14:32:01\", \"2025-01-22 14:33:15\", np.nan, \"2025-01-22 14:34:10\", np.nan, \"2025-01-22 14:36:45\"]\n",
        "}\n",
        "\n",
        "df = pd.DataFrame(data)\n",
        "\n",
        "print(\"Original DataFrame:\")\n",
        "print(df)\n",
        "\n",
        "\n",
        "df['Person_ID'] = df['Person_ID'].fillna(df['Person_ID'].median())\n",
        "\n",
        "\n",
        "df['Confidence_Score'] = df['Confidence_Score'].fillna(df['Confidence_Score'].mean())\n",
        "\n",
        "print(\"\\nDataFrame after handling missing values in numerical columns:\")\n",
        "print(df)\n"
      ],
      "metadata": {
        "colab": {
          "base_uri": "https://localhost:8080/"
        },
        "id": "NmFI3cIAZtwz",
        "outputId": "65889d5f-e00d-4d51-802d-eab42b8dc5a2"
      },
      "execution_count": null,
      "outputs": [
        {
          "output_type": "stream",
          "name": "stdout",
          "text": [
            "Original DataFrame:\n",
            "  Image_ID  Person_ID Helmet_Detected  Confidence_Score           Time_Stamp\n",
            "0  IMG_001        1.0             Yes              0.98  2025-01-22 14:32:01\n",
            "1  IMG_002        2.0              No              0.85  2025-01-22 14:33:15\n",
            "2  IMG_003        3.0             NaN               NaN                  NaN\n",
            "3  IMG_004        NaN             Yes              0.95  2025-01-22 14:34:10\n",
            "4  IMG_005        5.0              No              0.72                  NaN\n",
            "5  IMG_006        6.0             Yes               NaN  2025-01-22 14:36:45\n",
            "\n",
            "DataFrame after handling missing values in numerical columns:\n",
            "  Image_ID  Person_ID Helmet_Detected  Confidence_Score           Time_Stamp\n",
            "0  IMG_001        1.0             Yes             0.980  2025-01-22 14:32:01\n",
            "1  IMG_002        2.0              No             0.850  2025-01-22 14:33:15\n",
            "2  IMG_003        3.0             NaN             0.875                  NaN\n",
            "3  IMG_004        3.0             Yes             0.950  2025-01-22 14:34:10\n",
            "4  IMG_005        5.0              No             0.720                  NaN\n",
            "5  IMG_006        6.0             Yes             0.875  2025-01-22 14:36:45\n"
          ]
        }
      ]
    },
    {
      "cell_type": "code",
      "source": [
        "import pandas as pd\n",
        "import numpy as np\n",
        "\n",
        "\n",
        "data = {\n",
        "    \"Image_ID\": [\"IMG_001\", \"IMG_002\", \"IMG_003\", \"IMG_004\", \"IMG_005\", \"IMG_006\"],\n",
        "    \"Person_ID\": [1, 2, 3, np.nan, 5, 6],\n",
        "    \"Helmet_Detected\": [\"Yes\", \"No\", np.nan, \"Yes\", \"No\", \"Yes\"],\n",
        "    \"Confidence_Score\": [0.98, 0.85, np.nan, 0.95, 0.72, np.nan],\n",
        "    \"Time_Stamp\": [\"2025-01-22 14:32:01\", \"2025-01-22 14:33:15\", np.nan, \"2025-01-22 14:34:10\", np.nan, \"2025-01-22 14:36:45\"]\n",
        "}\n",
        "\n",
        "df = pd.DataFrame(data)\n",
        "\n",
        "print(\"Original DataFrame:\")\n",
        "print(df)\n",
        "\n",
        "\n",
        "df = df.apply(lambda col: col.fillna(col.mean()) if col.dtype in ['float64', 'int64'] else col)\n",
        "\n",
        "print(\"\\nDataFrame after replacing missing values with the mean for numerical columns:\")\n",
        "print(df)\n"
      ],
      "metadata": {
        "colab": {
          "base_uri": "https://localhost:8080/"
        },
        "id": "6GgrnnqGarTs",
        "outputId": "666e1ff9-3b02-425b-900b-6a2fdb139451"
      },
      "execution_count": null,
      "outputs": [
        {
          "output_type": "stream",
          "name": "stdout",
          "text": [
            "Original DataFrame:\n",
            "  Image_ID  Person_ID Helmet_Detected  Confidence_Score           Time_Stamp\n",
            "0  IMG_001        1.0             Yes              0.98  2025-01-22 14:32:01\n",
            "1  IMG_002        2.0              No              0.85  2025-01-22 14:33:15\n",
            "2  IMG_003        3.0             NaN               NaN                  NaN\n",
            "3  IMG_004        NaN             Yes              0.95  2025-01-22 14:34:10\n",
            "4  IMG_005        5.0              No              0.72                  NaN\n",
            "5  IMG_006        6.0             Yes               NaN  2025-01-22 14:36:45\n",
            "\n",
            "DataFrame after replacing missing values with the mean for numerical columns:\n",
            "  Image_ID  Person_ID Helmet_Detected  Confidence_Score           Time_Stamp\n",
            "0  IMG_001        1.0             Yes             0.980  2025-01-22 14:32:01\n",
            "1  IMG_002        2.0              No             0.850  2025-01-22 14:33:15\n",
            "2  IMG_003        3.0             NaN             0.875                  NaN\n",
            "3  IMG_004        3.4             Yes             0.950  2025-01-22 14:34:10\n",
            "4  IMG_005        5.0              No             0.720                  NaN\n",
            "5  IMG_006        6.0             Yes             0.875  2025-01-22 14:36:45\n"
          ]
        }
      ]
    },
    {
      "cell_type": "code",
      "source": [
        "import pandas as pd\n",
        "import numpy as np\n",
        "\n",
        "\n",
        "data = {\n",
        "    \"Image_ID\": [\"IMG_001\", \"IMG_002\", \"IMG_003\", \"IMG_004\", \"IMG_005\", \"IMG_006\"],\n",
        "    \"Person_ID\": [1, 2, 3, np.nan, 5, 6],\n",
        "    \"Helmet_Detected\": [\"Yes\", \"No\", np.nan, \"Yes\", \"No\", \"Yes\"],\n",
        "    \"Confidence_Score\": [0.98, 0.85, np.nan, 0.95, 0.72, np.nan],\n",
        "    \"Time_Stamp\": [\"2025-01-22 14:32:01\", \"2025-01-22 14:33:15\", np.nan, \"2025-01-22 14:34:10\", np.nan, \"2025-01-22 14:36:45\"]\n",
        "}\n",
        "\n",
        "df = pd.DataFrame(data)\n",
        "\n",
        "print(\"Original DataFrame:\")\n",
        "print(df)\n",
        "\n",
        "df_median = df.apply(lambda col: col.fillna(col.median()) if col.dtype in ['float64', 'int64'] else col)\n",
        "\n",
        "print(\"\\nDataFrame after replacing missing values with the median for numerical columns:\")\n",
        "print(df_median)\n",
        "\n",
        "\n",
        "df_mode = df.apply(lambda col: col.fillna(col.mode()[0]) if col.dtype in ['float64', 'int64'] else col)\n",
        "\n",
        "print(\"\\nDataFrame after replacing missing values with the mode for numerical columns:\")\n",
        "print(df_mode)\n"
      ],
      "metadata": {
        "colab": {
          "base_uri": "https://localhost:8080/"
        },
        "id": "K8V5_XOJaxJU",
        "outputId": "d36d1127-386e-470c-8e09-468af124738b"
      },
      "execution_count": null,
      "outputs": [
        {
          "output_type": "stream",
          "name": "stdout",
          "text": [
            "Original DataFrame:\n",
            "  Image_ID  Person_ID Helmet_Detected  Confidence_Score           Time_Stamp\n",
            "0  IMG_001        1.0             Yes              0.98  2025-01-22 14:32:01\n",
            "1  IMG_002        2.0              No              0.85  2025-01-22 14:33:15\n",
            "2  IMG_003        3.0             NaN               NaN                  NaN\n",
            "3  IMG_004        NaN             Yes              0.95  2025-01-22 14:34:10\n",
            "4  IMG_005        5.0              No              0.72                  NaN\n",
            "5  IMG_006        6.0             Yes               NaN  2025-01-22 14:36:45\n",
            "\n",
            "DataFrame after replacing missing values with the median for numerical columns:\n",
            "  Image_ID  Person_ID Helmet_Detected  Confidence_Score           Time_Stamp\n",
            "0  IMG_001        1.0             Yes              0.98  2025-01-22 14:32:01\n",
            "1  IMG_002        2.0              No              0.85  2025-01-22 14:33:15\n",
            "2  IMG_003        3.0             NaN              0.90                  NaN\n",
            "3  IMG_004        3.0             Yes              0.95  2025-01-22 14:34:10\n",
            "4  IMG_005        5.0              No              0.72                  NaN\n",
            "5  IMG_006        6.0             Yes              0.90  2025-01-22 14:36:45\n",
            "\n",
            "DataFrame after replacing missing values with the mode for numerical columns:\n",
            "  Image_ID  Person_ID Helmet_Detected  Confidence_Score           Time_Stamp\n",
            "0  IMG_001        1.0             Yes              0.98  2025-01-22 14:32:01\n",
            "1  IMG_002        2.0              No              0.85  2025-01-22 14:33:15\n",
            "2  IMG_003        3.0             NaN              0.72                  NaN\n",
            "3  IMG_004        1.0             Yes              0.95  2025-01-22 14:34:10\n",
            "4  IMG_005        5.0              No              0.72                  NaN\n",
            "5  IMG_006        6.0             Yes              0.72  2025-01-22 14:36:45\n"
          ]
        }
      ]
    },
    {
      "cell_type": "code",
      "source": [
        "import pandas as pd\n",
        "import numpy as np\n",
        "\n",
        "\n",
        "data = {\n",
        "    'Age': [25, None, 30, 35, None, 4.5],\n",
        "    'Height': [5.5, 6.1, 5.9, None, 5.7, 6.2],\n",
        "    'HelmetStatus': [1, None, 1, 0, 1, 1],\n",
        "    'Gender': ['M', 'F', 'M', 'None', 'F', 'M'],\n",
        "    'Experience': [2, 4, 6, 1, None, None]\n",
        "}\n",
        "\n",
        "\n",
        "df = pd.DataFrame(data)\n",
        "\n",
        "print(\"Original DataFrame with Missing Values:\")\n",
        "print(df)\n",
        "\n",
        "\n",
        "df_filled_mean = df.copy()\n",
        "df_filled_median = df.copy()\n",
        "df_filled_mode = df.copy()\n",
        "\n",
        "\n",
        "df_filled_mean['Age'] = df['Age'].fillna(df['Age'].mean()).astype(int)\n",
        "df_filled_mean['Experience'] = df['Experience'].fillna(df['Experience'].mean()).astype(int)\n",
        "\n",
        "\n",
        "df_filled_median['Age'] = df['Age'].fillna(df['Age'].median()).astype(int)\n",
        "df_filled_median['Experience'] = df['Experience'].fillna(df['Experience'].median()).astype(int)\n",
        "\n",
        "\n",
        "df_filled_mode['Age'] = df['Age'].fillna(df['Age'].mode()[0]).astype(int)\n",
        "df_filled_mode['Experience'] = df['Experience'].fillna(df['Experience'].mode()[0]).astype(int)\n",
        "\n",
        "\n",
        "print(\"\\nDataFrame after replacing missing values with Mean:\")\n",
        "print(df_filled_mean)\n",
        "\n",
        "print(\"\\nDataFrame after replacing missing values with Median:\")\n",
        "print(df_filled_median)\n",
        "\n",
        "print(\"\\nDataFrame after replacing missing values with Mode:\")\n",
        "print(df_filled_mode)\n"
      ],
      "metadata": {
        "colab": {
          "base_uri": "https://localhost:8080/"
        },
        "id": "4eXlYMMOcQ-h",
        "outputId": "d865e143-9c28-49a1-ad0f-85a341098891"
      },
      "execution_count": null,
      "outputs": [
        {
          "output_type": "stream",
          "name": "stdout",
          "text": [
            "Original DataFrame with Missing Values:\n",
            "    Age  Height  HelmetStatus Gender  Experience\n",
            "0  25.0     5.5           1.0      M         2.0\n",
            "1   NaN     6.1           NaN      F         4.0\n",
            "2  30.0     5.9           1.0      M         6.0\n",
            "3  35.0     NaN           0.0   None         1.0\n",
            "4   NaN     5.7           1.0      F         NaN\n",
            "5   4.5     6.2           1.0      M         NaN\n",
            "\n",
            "DataFrame after replacing missing values with Mean:\n",
            "   Age  Height  HelmetStatus Gender  Experience\n",
            "0   25     5.5           1.0      M           2\n",
            "1   23     6.1           NaN      F           4\n",
            "2   30     5.9           1.0      M           6\n",
            "3   35     NaN           0.0   None           1\n",
            "4   23     5.7           1.0      F           3\n",
            "5    4     6.2           1.0      M           3\n",
            "\n",
            "DataFrame after replacing missing values with Median:\n",
            "   Age  Height  HelmetStatus Gender  Experience\n",
            "0   25     5.5           1.0      M           2\n",
            "1   27     6.1           NaN      F           4\n",
            "2   30     5.9           1.0      M           6\n",
            "3   35     NaN           0.0   None           1\n",
            "4   27     5.7           1.0      F           3\n",
            "5    4     6.2           1.0      M           3\n",
            "\n",
            "DataFrame after replacing missing values with Mode:\n",
            "   Age  Height  HelmetStatus Gender  Experience\n",
            "0   25     5.5           1.0      M           2\n",
            "1    4     6.1           NaN      F           4\n",
            "2   30     5.9           1.0      M           6\n",
            "3   35     NaN           0.0   None           1\n",
            "4    4     5.7           1.0      F           1\n",
            "5    4     6.2           1.0      M           1\n"
          ]
        }
      ]
    },
    {
      "cell_type": "code",
      "source": [
        "import pandas as pd\n",
        "\n",
        "\n",
        "data = {\n",
        "    \"ID\": [1, 2, 3, 4, 5, 3, 2],\n",
        "    \"Name\": [\"Alice\", \"Bob\", \"Charlie\", \"David\", \"Eve\", \"Charlie\", \"Bob\"],\n",
        "    \"Age\": [25, 30, 35, 40, 28, 35, 30],\n",
        "    \"City\": [\"New York\", \"Los Angeles\", \"Chicago\", \"Houston\", \"Phoenix\", \"Chicago\", \"Los Angeles\"]\n",
        "}\n",
        "\n",
        "df = pd.DataFrame(data)\n",
        "\n",
        "print(\"DataFrame with Duplicate Rows:\")\n",
        "print(df)\n"
      ],
      "metadata": {
        "colab": {
          "base_uri": "https://localhost:8080/"
        },
        "id": "FkXLuzYLfSnJ",
        "outputId": "494bdda2-748d-46cb-9523-fbe0b30f1dab"
      },
      "execution_count": null,
      "outputs": [
        {
          "output_type": "stream",
          "name": "stdout",
          "text": [
            "DataFrame with Duplicate Rows:\n",
            "   ID     Name  Age         City\n",
            "0   1    Alice   25     New York\n",
            "1   2      Bob   30  Los Angeles\n",
            "2   3  Charlie   35      Chicago\n",
            "3   4    David   40      Houston\n",
            "4   5      Eve   28      Phoenix\n",
            "5   3  Charlie   35      Chicago\n",
            "6   2      Bob   30  Los Angeles\n"
          ]
        }
      ]
    },
    {
      "cell_type": "code",
      "source": [
        "import pandas as pd\n",
        "\n",
        "\n",
        "data = {\n",
        "    \"ID\": [1, 2, 3, 4, 5, 3, 2],\n",
        "    \"Name\": [\"Alice\", \"Bob\", \"Charlie\", \"David\", \"Eve\", \"Charlie\", \"Bob\"],\n",
        "    \"Age\": [25, 30, 35, 40, 28, 35, 30],\n",
        "    \"City\": [\"New York\", \"Los Angeles\", \"Chicago\", \"Houston\", \"Phoenix\", \"Chicago\", \"Los Angeles\"]\n",
        "}\n",
        "\n",
        "df = pd.DataFrame(data)\n",
        "\n",
        "\n",
        "duplicates = df[df.duplicated()]\n",
        "\n",
        "print(\"Duplicate Rows:\")\n",
        "print(duplicates)\n"
      ],
      "metadata": {
        "colab": {
          "base_uri": "https://localhost:8080/"
        },
        "id": "FvLPmxU5fmjK",
        "outputId": "c4957376-0e30-4b1e-d4c4-8e51f1e8031e"
      },
      "execution_count": null,
      "outputs": [
        {
          "output_type": "stream",
          "name": "stdout",
          "text": [
            "Duplicate Rows:\n",
            "   ID     Name  Age         City\n",
            "5   3  Charlie   35      Chicago\n",
            "6   2      Bob   30  Los Angeles\n"
          ]
        }
      ]
    },
    {
      "cell_type": "markdown",
      "source": [],
      "metadata": {
        "id": "NyQoLiqjHLZi"
      }
    },
    {
      "cell_type": "code",
      "source": [
        " import numpy as np\n",
        "\n",
        "data = [10, 12, 14, 13, 100, 47, 5, 15, 16, 14, 13, 11]\n",
        "Q1 = np.percentile(data, 25)\n",
        "Q3 = np.percentile(data, 75)\n",
        "IQR = Q3 - Q1\n",
        "lower_bound = Q1 - 1.5 * IQR\n",
        "upper_bound = Q3 + 1.5 * IQR\n",
        "outliers = [x for x in data if x < lower_bound or x > upper_bound]\n",
        "print(\"Outliers:\", outliers)\n",
        "\n"
      ],
      "metadata": {
        "id": "UTpl6-ElgvGK",
        "colab": {
          "base_uri": "https://localhost:8080/"
        },
        "outputId": "a12a7691-cde2-41d3-fc1b-90a0a16f8f08"
      },
      "execution_count": null,
      "outputs": [
        {
          "output_type": "stream",
          "name": "stdout",
          "text": [
            "Outliers: [100, 47, 5]\n"
          ]
        }
      ]
    },
    {
      "cell_type": "code",
      "source": [
        "import pandas as pd\n",
        "import numpy as np\n",
        "import matplotlib.pyplot as plt\n",
        "import seaborn as sns\n",
        "\n",
        "np.random.seed(10)\n",
        "data = pd.DataFrame({\n",
        "    'value': np.concatenate([np.random.normal(0, 1, 100), np.random.normal(10, 1, 10)])\n",
        "})\n",
        "\n",
        "Q1 = data['value'].quantile(0.25)\n",
        "Q3 = data['value'].quantile(0.75)\n",
        "IQR = Q3 - Q1\n",
        "lower_bound = Q1 - 1.5 * IQR\n",
        "upper_bound = Q3 + 1.5 * IQR\n",
        "outliers = data[(data['value'] < lower_bound) | (data['value'] > upper_bound)]\n",
        "\n",
        "print(\"Lower Bound:\", lower_bound)\n",
        "print(\"Upper Bound:\", upper_bound)\n",
        "print(\"Outliers:\")\n",
        "print(outliers)\n",
        "\n",
        "plt.figure(figsize=(8, 6))\n",
        "sns.boxplot(data['value'])\n",
        "plt.title('Boxplot of Values with Outliers')\n",
        "plt.show()\n"
      ],
      "metadata": {
        "colab": {
          "base_uri": "https://localhost:8080/",
          "height": 736
        },
        "id": "Si1QcIDiI-dA",
        "outputId": "35416499-ce4d-443b-9ada-11eaf98e9d9e"
      },
      "execution_count": null,
      "outputs": [
        {
          "output_type": "stream",
          "name": "stdout",
          "text": [
            "Lower Bound: -2.3631061943723766\n",
            "Upper Bound: 2.972058326214519\n",
            "Outliers:\n",
            "         value\n",
            "100  10.117476\n",
            "101   8.092543\n",
            "102   9.077091\n",
            "103  10.469751\n",
            "104   9.855633\n",
            "105   9.599862\n",
            "106   9.704016\n",
            "107  10.848209\n",
            "108  10.706830\n",
            "109   9.212731\n"
          ]
        },
        {
          "output_type": "display_data",
          "data": {
            "text/plain": [
              "<Figure size 800x600 with 1 Axes>"
            ],
            "image/png": "[encoded data removed]"
          },
          "metadata": {}
        }
      ]
    }
  ]
}