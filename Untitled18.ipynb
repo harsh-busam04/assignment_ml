{
  "nbformat": 4,
  "nbformat_minor": 0,
  "metadata": {
    "colab": {
      "provenance": [],
      "authorship_tag": "ABX9TyMrW8+osdievYO05W3NIzpn",
      "include_colab_link": true
    },
    "kernelspec": {
      "name": "python3",
      "display_name": "Python 3"
    },
    "language_info": {
      "name": "python"
    }
  },
  "cells": [
    {
      "cell_type": "markdown",
      "metadata": {
        "id": "view-in-github",
        "colab_type": "text"
      },
      "source": [
        "<a href=\"https://colab.research.google.com/github/harsh-busam04/assignment_ml/blob/main/Untitled18.ipynb\" target=\"_parent\"><img src=\"https://colab.research.google.com/assets/colab-badge.svg\" alt=\"Open In Colab\"/></a>"
      ]
    },
    {
      "cell_type": "code",
      "execution_count": 5,
      "metadata": {
        "colab": {
          "base_uri": "https://localhost:8080/"
        },
        "id": "B8XmuOrVlz_f",
        "outputId": "3276c800-6025-43ed-fd60-c25308908777"
      },
      "outputs": [
        {
          "output_type": "stream",
          "name": "stdout",
          "text": [
            "Chi-Squared Scores for Features:\n",
            "preg: 111.520\n",
            "plas: 1411.887\n",
            "pres: 17.605\n",
            "skin: 53.108\n",
            "test: 2175.565\n",
            "mass: 127.669\n",
            "pedi: 5.393\n",
            "age: 181.304\n",
            "\n",
            "First 5 Rows of Selected Features:\n",
            "[[148.    0.   33.6  50. ]\n",
            " [ 85.    0.   26.6  31. ]\n",
            " [183.    0.   23.3  32. ]\n",
            " [ 89.   94.   28.1  21. ]\n",
            " [137.  168.   43.1  33. ]]\n"
          ]
        }
      ],
      "source": [
        "import numpy as np\n",
        "import pandas as pd\n",
        "from sklearn.feature_selection import SelectKBest, chi2\n",
        "\n",
        "# Define filename and column names\n",
        "filename = \"pima-indians-diabetes.data.csv\"\n",
        "names = ['preg', 'plas', 'pres', 'skin', 'test', 'mass', 'pedi', 'age', 'class']\n",
        "\n",
        "# Load dataset\n",
        "dataframe = pd.read_csv(filename, names=names)\n",
        "array = dataframe.values\n",
        "\n",
        "# Separate features and target variable\n",
        "X = array[:, 0:8]  # First 8 columns as features\n",
        "Y = array[:, 8]    # Last column as target\n",
        "\n",
        "# Feature selection using Chi-Square test\n",
        "test = SelectKBest(score_func=chi2, k=4)\n",
        "fit = test.fit(X, Y)\n",
        "\n",
        "# Set print precision\n",
        "np.set_printoptions(precision=3)\n",
        "\n",
        "# Print chi-squared scores for all features\n",
        "print(\"Chi-Squared Scores for Features:\")\n",
        "for name, score in zip(names[:-1], fit.scores_):\n",
        "    print(f\"{name}: {score:.3f}\")\n",
        "\n",
        "# Transform dataset to select best features\n",
        "selected_features = fit.transform(X)\n",
        "\n",
        "# Print first 5 rows of selected features\n",
        "print(\"\\nFirst 5 Rows of Selected Features:\")\n",
        "print(selected_features[:5, :])\n"
      ]
    },
    {
      "cell_type": "code",
      "source": [
        "from pandas import read_csv\n",
        "from sklearn.feature_selection import RFE\n",
        "from sklearn.linear_model import LogisticRegression\n",
        " filename"
      ],
      "metadata": {
        "id": "uyIp3Bs_pSMr"
      },
      "execution_count": null,
      "outputs": []
    },
    {
      "cell_type": "code",
      "source": [],
      "metadata": {
        "id": "sXN46wLgogCP"
      },
      "execution_count": null,
      "outputs": []
    }
  ]
}