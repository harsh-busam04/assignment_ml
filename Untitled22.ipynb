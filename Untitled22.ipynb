{
  "nbformat": 4,
  "nbformat_minor": 0,
  "metadata": {
    "colab": {
      "provenance": [],
      "toc_visible": true,
      "authorship_tag": "ABX9TyPh85EseIk5Cp+awstXBMhW",
      "include_colab_link": true
    },
    "kernelspec": {
      "name": "python3",
      "display_name": "Python 3"
    },
    "language_info": {
      "name": "python"
    }
  },
  "cells": [
    {
      "cell_type": "markdown",
      "metadata": {
        "id": "view-in-github",
        "colab_type": "text"
      },
      "source": [
        "<a href=\"https://colab.research.google.com/github/harsh-busam04/assignment_ml/blob/main/Untitled22.ipynb\" target=\"_parent\"><img src=\"https://colab.research.google.com/assets/colab-badge.svg\" alt=\"Open In Colab\"/></a>"
      ]
    },
    {
      "source": [
        "import pandas as pd\n",
        "import matplotlib.pyplot as plt\n",
        "import pandas as pd\n",
        "import numpy as np # Importing the numpy library\n",
        "\n",
        "# Using np.loadtxt to call the function from the numpy library\n",
        "dataset = np.loadtxt('/content/pima-indians-diabetes.data.csv', delimiter=\",\")\n",
        "X = dataset[:,0:8]\n",
        "Y = dataset[:,8] # Correcting the typo to use 'dataset'\n",
        "\n",
        "# Import the train_test_split function from sklearn.model_selection\n",
        "from sklearn.model_selection import train_test_split\n",
        "\n",
        "# Now you can use the train_test_split function\n",
        "x_train, x_test, y_train, y_test = train_test_split(X, Y, test_size=0.25, random_state = 0)"
      ],
      "cell_type": "code",
      "metadata": {
        "id": "SG0iAgS9prmF"
      },
      "execution_count": 11,
      "outputs": []
    },
    {
      "source": [
        "params = {}  # Initialize params as a dictionary\n",
        "params['learning_rate'] = 0.003\n",
        "params['boosting_type'] = 'gbdt'\n",
        "params['objective'] = 'binary'\n",
        "params['metric'] = 'binary_logloss'\n",
        "params['sub_feature'] = 0.5\n",
        "params['num_leaves'] = 10\n",
        "params['min_data'] = 50\n",
        "params['max_depth'] = 10"
      ],
      "cell_type": "code",
      "metadata": {
        "id": "CdMxEFJMqo09"
      },
      "execution_count": 13,
      "outputs": []
    },
    {
      "source": [
        "params = {}  # Initialize params as a dictionary\n",
        "params['learning_rate'] = 0.003\n",
        "params['boosting_type'] = 'gbdt'\n",
        "params['objective'] = 'binary'\n",
        "params['metric'] = 'binary_logloss'\n",
        "params['sub_feature'] = 0.5\n",
        "params['num_leaves'] = 10\n",
        "params['min_data'] = 50\n",
        "params['max_depth'] = 10\n",
        "\n"
      ],
      "cell_type": "code",
      "metadata": {
        "id": "jKIgiIOHq5_y"
      },
      "execution_count": 17,
      "outputs": []
    },
    {
      "cell_type": "code",
      "source": [
        "y_pred=clf.predict(x_test)"
      ],
      "metadata": {
        "id": "c_dzCD3FrIpA"
      },
      "execution_count": 18,
      "outputs": []
    },
    {
      "cell_type": "code",
      "source": [
        "predictions = [round(value) for value in y_pred]"
      ],
      "metadata": {
        "id": "FrfXS5TQrPKv"
      },
      "execution_count": 19,
      "outputs": []
    },
    {
      "cell_type": "code",
      "source": [
        "from sklearn.metrics import accuracy_score # Import the accuracy_score function\n",
        "\n",
        "predictions = [round(value) for value in y_pred]\n",
        "accuracy = accuracy_score(y_test, predictions)"
      ],
      "metadata": {
        "id": "RiYgeRQ_rWQQ"
      },
      "execution_count": 21,
      "outputs": []
    },
    {
      "cell_type": "code",
      "source": [],
      "metadata": {
        "id": "FfBEtlYKsN-c"
      },
      "execution_count": null,
      "outputs": []
    }
  ]
}